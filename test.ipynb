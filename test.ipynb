{
 "cells": [
  {
   "cell_type": "code",
   "execution_count": 1,
   "metadata": {},
   "outputs": [],
   "source": [
    "%load_ext autoreload\n",
    "%autoreload 2"
   ]
  },
  {
   "cell_type": "code",
   "execution_count": 7,
   "metadata": {},
   "outputs": [],
   "source": [
    "from operationUnits import * \n",
    "\n",
    "nodes, edges = parse_ctx()"
   ]
  },
  {
   "cell_type": "code",
   "execution_count": 4,
   "metadata": {},
   "outputs": [
    {
     "data": {
      "text/plain": [
       "[{'id': 1,\n",
       "  'label': 'IAB-HI',\n",
       "  'properties': {'kind': 'START',\n",
       "   'in': [],\n",
       "   'out': ['IAB-HI'],\n",
       "   'temperature': 300,\n",
       "   'pressure': '3445.05',\n",
       "   'composition': [[1, 0.9], [2, 0.1]]}},\n",
       " {'id': 2,\n",
       "  'label': 'IC-HI',\n",
       "  'properties': {'kind': 'START',\n",
       "   'in': [],\n",
       "   'out': ['IC-HI'],\n",
       "   'temperature': 300,\n",
       "   'pressure': '3445.05',\n",
       "   'composition': [[3, 1.0]]}},\n",
       " {'id': 3,\n",
       "  'label': 'HX1-IC',\n",
       "  'properties': {'kind': 'HX',\n",
       "   'in': ['IC-HI'],\n",
       "   'out': ['IC'],\n",
       "   'description': 'Heater for Toluene feed stream'}},\n",
       " {'id': 4,\n",
       "  'label': 'HX0-IAB',\n",
       "  'properties': {'kind': 'HX',\n",
       "   'in': ['IAB-HI'],\n",
       "   'out': ['IAB'],\n",
       "   'description': 'Heater for Hydrogen feed stream'}},\n",
       " {'id': 5,\n",
       "  'label': 'R1',\n",
       "  'properties': {'kind': 'CONREACTOR',\n",
       "   'in': ['FRT'],\n",
       "   'out': ['INTER1'],\n",
       "   'description': 'Reactor 1'}},\n",
       " {'id': 6,\n",
       "  'label': 'R2',\n",
       "  'properties': {'kind': 'CONREACTOR',\n",
       "   'in': ['INTER1'],\n",
       "   'out': ['ABCDE'],\n",
       "   'description': 'Reactor 2'}},\n",
       " {'id': 7,\n",
       "  'label': 'HX2-ABCDE',\n",
       "  'properties': {'kind': 'HX',\n",
       "   'in': ['ABCDE-HI'],\n",
       "   'out': ['ABCDE'],\n",
       "   'description': 'Cooler after reactor'}},\n",
       " {'id': 8,\n",
       "  'label': 'F1-ECD-AB',\n",
       "  'properties': {'kind': 'FLASH',\n",
       "   'in': ['ABCDE'],\n",
       "   'out': ['AB', 'ABCDE-INT'],\n",
       "   'outT': ['AB'],\n",
       "   'outB': ['ABCDE-INT'],\n",
       "   'description': 'Flash Drum'}},\n",
       " {'id': 9,\n",
       "  'label': 'SP1-RAB',\n",
       "  'properties': {'kind': 'SPLITTER',\n",
       "   'in': ['AB'],\n",
       "   'out': ['S1-RAB', 'RAB-PC'],\n",
       "   'description': 'Splitter for Hydrogen'}},\n",
       " {'id': 10,\n",
       "  'label': 'PC0-RAB',\n",
       "  'properties': {'kind': 'COMPRESSOR',\n",
       "   'in': ['RAB-PC'],\n",
       "   'out': ['RAB-HI'],\n",
       "   'description': 'Compressor for Hydrogen'}},\n",
       " {'id': 11,\n",
       "  'label': 'HX0-RAB',\n",
       "  'properties': {'kind': 'HX',\n",
       "   'in': ['RAB-HI'],\n",
       "   'out': ['RAB'],\n",
       "   'description': 'Heater for recycled Hydrogen stream'}},\n",
       " {'id': 12,\n",
       "  'label': 'DIST-ECD-AB',\n",
       "  'properties': {'kind': 'COLUMN',\n",
       "   'in': ['ABCDE-INT'],\n",
       "   'out': ['AB-FL', 'CDE'],\n",
       "   'outT': ['AB-FL'],\n",
       "   'outB': ['CDE'],\n",
       "   'description': 'DIstillation Column 1'}},\n",
       " {'id': 13,\n",
       "  'label': 'DIST-E-CD',\n",
       "  'properties': {'kind': 'COLUMN',\n",
       "   'in': ['CDE'],\n",
       "   'out': ['CD', 'E'],\n",
       "   'outT': ['CD'],\n",
       "   'outB': ['E'],\n",
       "   'description': 'Distillation Column 2'}},\n",
       " {'id': 14,\n",
       "  'label': 'DIST-C-D',\n",
       "  'properties': {'kind': 'COLUMN',\n",
       "   'in': ['CD'],\n",
       "   'out': ['D', 'C'],\n",
       "   'outT': ['D'],\n",
       "   'outB': ['C'],\n",
       "   'description': 'Distillation Column 3'}},\n",
       " {'id': 15,\n",
       "  'label': 'SP1-RC',\n",
       "  'properties': {'kind': 'SPLITTER',\n",
       "   'in': ['C'],\n",
       "   'out': ['S1-RC', 'RC-PU'],\n",
       "   'description': 'Splitter for Toluene'}},\n",
       " {'id': 16,\n",
       "  'label': 'P1-RC',\n",
       "  'properties': {'kind': 'PUMP',\n",
       "   'in': 'RC-PU',\n",
       "   'out': 'RC-HI',\n",
       "   'description': 'Pump for Toluene'}},\n",
       " {'id': 17,\n",
       "  'label': 'HX1-RC',\n",
       "  'properties': {'kind': 'HX',\n",
       "   'in': ['RC-HI'],\n",
       "   'out': ['RC'],\n",
       "   'description': 'Heater for recycled Toluene stream'}},\n",
       " {'id': 18,\n",
       "  'label': 'M1-R1',\n",
       "  'properties': {'kind': 'MIXER',\n",
       "   'in': ['RAB', 'RC', 'IC', 'IAB'],\n",
       "   'out': ['FRT'],\n",
       "   'description': 'Mixer before reactor'}},\n",
       " {'id': 19,\n",
       "  'label': 'HX1-E',\n",
       "  'properties': {'kind': 'HX',\n",
       "   'in': ['E'],\n",
       "   'out': ['E-STORAGE'],\n",
       "   'description': 'Cooler for Biphenyl to storage'}},\n",
       " {'id': 20,\n",
       "  'label': 'HX0-D',\n",
       "  'properties': {'kind': 'HX',\n",
       "   'in': ['D'],\n",
       "   'out': ['D-STORAGE'],\n",
       "   'description': 'Cooler for Benzene to storage'}}]"
      ]
     },
     "execution_count": 4,
     "metadata": {},
     "output_type": "execute_result"
    }
   ],
   "source": [
    "nodes"
   ]
  },
  {
   "cell_type": "code",
   "execution_count": 8,
   "metadata": {},
   "outputs": [
    {
     "data": {
      "text/plain": [
       "[{'id': 1, 'from': 1, 'to': 4},\n",
       " {'id': 2, 'from': 2, 'to': 3},\n",
       " {'id': 3, 'from': 3, 'to': 18},\n",
       " {'id': 4, 'from': 4, 'to': 18},\n",
       " {'id': 5, 'from': 5, 'to': 6},\n",
       " {'id': 6, 'from': 6, 'to': 8},\n",
       " {'id': 7, 'from': 7, 'to': 8},\n",
       " {'id': 8, 'from': 8, 'to': 9},\n",
       " {'id': 9, 'from': 8, 'to': 12},\n",
       " {'id': 10, 'from': 9, 'to': 10},\n",
       " {'id': 11, 'from': 10, 'to': 11},\n",
       " {'id': 12, 'from': 11, 'to': 18},\n",
       " {'id': 13, 'from': 12, 'to': 13},\n",
       " {'id': 14, 'from': 13, 'to': 14},\n",
       " {'id': 15, 'from': 13, 'to': 19},\n",
       " {'id': 16, 'from': 14, 'to': 20},\n",
       " {'id': 17, 'from': 14, 'to': 15},\n",
       " {'id': 18, 'from': 14, 'to': 16},\n",
       " {'id': 19, 'from': 15, 'to': 16},\n",
       " {'id': 20, 'from': 16, 'to': 16},\n",
       " {'id': 21, 'from': 16, 'to': 15},\n",
       " {'id': 22, 'from': 16, 'to': 16},\n",
       " {'id': 23, 'from': 16, 'to': 16},\n",
       " {'id': 24, 'from': 17, 'to': 16},\n",
       " {'id': 25, 'from': 17, 'to': 18},\n",
       " {'id': 26, 'from': 18, 'to': 5}]"
      ]
     },
     "execution_count": 8,
     "metadata": {},
     "output_type": "execute_result"
    }
   ],
   "source": [
    "edges"
   ]
  },
  {
   "cell_type": "code",
   "execution_count": 12,
   "metadata": {},
   "outputs": [
    {
     "data": {
      "text/plain": [
       "{'id': None,\n",
       " 'label': 'R2',\n",
       " 'properties': {'kind': 'CONREACTOR',\n",
       "  'in': ['INTER1'],\n",
       "  'out': ['ABCDE-HI'],\n",
       "  'description': 'Reactor 2'}}"
      ]
     },
     "execution_count": 12,
     "metadata": {},
     "output_type": "execute_result"
    }
   ],
   "source": [
    "text = \"\"\"\n",
    "  CONREACTOR UID=R2, NAME=Reactor 2\n",
    "      FEED INTER1\n",
    "      PRODUCT  M=ABCDE-HI\n",
    "      OPERATION ISOTHERMAL\n",
    "      RXCALCULATION MODEL=STOIC\n",
    "      RXSTOIC RXSET=2\n",
    "      REACTION 2\n",
    "      BASE COMPONENT=4\n",
    "      CONVERSION 0.15\n",
    "\"\"\"\n",
    "parse_conreactor_block(text)"
   ]
  },
  {
   "cell_type": "code",
   "execution_count": 14,
   "metadata": {},
   "outputs": [
    {
     "ename": "NameError",
     "evalue": "name 'parse_pro2inp' is not defined",
     "output_type": "error",
     "traceback": [
      "\u001b[1;31m---------------------------------------------------------------------------\u001b[0m",
      "\u001b[1;31mNameError\u001b[0m                                 Traceback (most recent call last)",
      "Cell \u001b[1;32mIn[14], line 10\u001b[0m\n\u001b[0;32m      7\u001b[0m \u001b[38;5;28;01mwith\u001b[39;00m \u001b[38;5;28mopen\u001b[39m(file_path, \u001b[38;5;124m\"\u001b[39m\u001b[38;5;124mr\u001b[39m\u001b[38;5;124m\"\u001b[39m) \u001b[38;5;28;01mas\u001b[39;00m file:\n\u001b[0;32m      8\u001b[0m     text_content \u001b[38;5;241m=\u001b[39m file\u001b[38;5;241m.\u001b[39mread()\n\u001b[1;32m---> 10\u001b[0m \u001b[43mparse_pro2inp\u001b[49m(text_content)\n\u001b[0;32m     12\u001b[0m \u001b[38;5;66;03m# a = slice_section(text_content)\u001b[39;00m\n",
      "\u001b[1;31mNameError\u001b[0m: name 'parse_pro2inp' is not defined"
     ]
    }
   ],
   "source": [
    "import re\n",
    "from pprint import pprint\n",
    "from operationUnits import * \n",
    "\n",
    "# Read text content from the file\n",
    "file_path = \"sample_full.txt\"\n",
    "with open(file_path, \"r\") as file:\n",
    "    text_content = file.read()\n",
    "\n",
    "parse_pro2inp(text_content)\n",
    "\n",
    "# a = slice_section(text_content)"
   ]
  },
  {
   "cell_type": "code",
   "execution_count": null,
   "metadata": {},
   "outputs": [
    {
     "name": "stdout",
     "output_type": "stream",
     "text": [
      "STREAM DATA\n",
      "  PROPERTY STREAM=IAB-HI, TEMPERATURE=300, PRESSURE=3445.05, PHASE=M, &\n",
      "         RATE(M)=100, COMPOSITION(M)=1,0.9/2,0.1\n",
      "  PROPERTY STREAM=IC-HI, TEMPERATURE=300, PRESSURE=3445.05, PHASE=M, &\n",
      "         RATE(M)=100, COMPOSITION(M)=3,1\n"
     ]
    }
   ],
   "source": [
    "test(text_content)"
   ]
  },
  {
   "cell_type": "code",
   "execution_count": null,
   "metadata": {},
   "outputs": [
    {
     "name": "stdout",
     "output_type": "stream",
     "text": [
      "STREAM DATA\n",
      "  PROPERTY STREAM=IAB-HI, TEMPERATURE=300, PRESSURE=3445.05, PHASE=M, &\n",
      "         RATE(M)=100, COMPOSITION(M)=1,0.9/2,0.1\n",
      "  PROPERTY STREAM=IC-HI, TEMPERATURE=300, PRESSURE=3445.05, PHASE=M, &\n",
      "         RATE(M)=100, COMPOSITION(M)=3,1\n",
      "[]\n"
     ]
    }
   ],
   "source": [
    "sections = slice_section(text_content)\n",
    "\n",
    "\n",
    "for text in sections:\n",
    "    if text.startswith(\"STREAM DATA\"):\n",
    "        print(text)\n",
    "        result = parse_stream_data(text)\n",
    "        print(result)\n",
    "        t = text\n",
    "\n"
   ]
  },
  {
   "cell_type": "code",
   "execution_count": null,
   "metadata": {},
   "outputs": [
    {
     "data": {
      "text/plain": [
       "'STREAM DATA\\n  PROPERTY STREAM=IAB-HI, TEMPERATURE=300, PRESSURE=3445.05, PHASE=M, &\\n         RATE(M)=100, COMPOSITION(M)=1,0.9/2,0.1\\n  PROPERTY STREAM=IC-HI, TEMPERATURE=300, PRESSURE=3445.05, PHASE=M, &\\n         RATE(M)=100, COMPOSITION(M)=3,1'"
      ]
     },
     "execution_count": 9,
     "metadata": {},
     "output_type": "execute_result"
    }
   ],
   "source": []
  },
  {
   "cell_type": "code",
   "execution_count": null,
   "metadata": {},
   "outputs": [
    {
     "data": {
      "text/plain": [
       "[{'label': 'IAB-HI',\n",
       "  'temperature': 300,\n",
       "  'pressure': '3445.05',\n",
       "  'composition': [[1, 0.9], [2, 0.1]]},\n",
       " {'label': 'IC-HI',\n",
       "  'temperature': 300,\n",
       "  'pressure': '3445.05',\n",
       "  'composition': [[3, 1.0]]}]"
      ]
     },
     "execution_count": 12,
     "metadata": {},
     "output_type": "execute_result"
    }
   ],
   "source": [
    "parse_stream_data(t)"
   ]
  },
  {
   "cell_type": "code",
   "execution_count": null,
   "metadata": {},
   "outputs": [],
   "source": [
    "def parse_stream_data(text_content):\n",
    "    # Define a list to store the parsed stream data\n",
    "    streams = []\n",
    "\n",
    "    # Regular expression to match each PROPERTY STREAM block\n",
    "    pattern = re.compile(\n",
    "        r\"STREAM=(?P<label>[^,]+),\\s*\"\n",
    "        r\"TEMPERATURE=(?P<temperature>[\\d.]+),\\s*\"\n",
    "        r\"PRESSURE=(?P<pressure>[\\d.]+),\\s*\"\n",
    "        r\"PHASE=[^,]+,\\s*&\\s*\"\n",
    "        r\"RATE\\(M\\)=[\\d.]+,\\s*\"\n",
    "        r\"COMPOSITION\\(M\\)=(?P<composition>.+)\"\n",
    "    )\n",
    "\n",
    "    # Iterate over all matches\n",
    "    for match in pattern.finditer(text_content):\n",
    "        # Extract composition and parse into nested lists\n",
    "        raw_composition = match.group(\"composition\")\n",
    "        composition = [\n",
    "            [int(pair.split(\",\")[0]), float(pair.split(\",\")[1])]\n",
    "            for pair in raw_composition.split(\"/\")\n",
    "        ]\n",
    "\n",
    "        # Add the parsed data to the streams list\n",
    "        streams.append({\n",
    "            \"label\": match.group(\"label\"),\n",
    "            \"temperature\": int(match.group(\"temperature\")),\n",
    "            \"pressure\": match.group(\"pressure\"),\n",
    "            \"composition\": composition\n",
    "        })\n",
    "\n",
    "    return streams\n"
   ]
  },
  {
   "cell_type": "code",
   "execution_count": null,
   "metadata": {},
   "outputs": [
    {
     "ename": "TypeError",
     "evalue": "unsupported operand type(s) for +: 'int' and 'str'",
     "output_type": "error",
     "traceback": [
      "\u001b[1;31m---------------------------------------------------------------------------\u001b[0m",
      "\u001b[1;31mTypeError\u001b[0m                                 Traceback (most recent call last)",
      "Cell \u001b[1;32mIn[4], line 53\u001b[0m\n\u001b[0;32m     51\u001b[0m \u001b[38;5;28;01mfor\u001b[39;00m inlet \u001b[38;5;129;01min\u001b[39;00m operation[\u001b[38;5;124m'\u001b[39m\u001b[38;5;124minlets\u001b[39m\u001b[38;5;124m'\u001b[39m]:\n\u001b[0;32m     52\u001b[0m     from_node \u001b[38;5;241m=\u001b[39m start_nodes\u001b[38;5;241m.\u001b[39mindex(inlet) \u001b[38;5;241m+\u001b[39m \u001b[38;5;241m1\u001b[39m \u001b[38;5;28;01mif\u001b[39;00m inlet \u001b[38;5;129;01min\u001b[39;00m start_nodes \u001b[38;5;28;01melse\u001b[39;00m \u001b[38;5;28mnext\u001b[39m((n[\u001b[38;5;124m'\u001b[39m\u001b[38;5;124mid\u001b[39m\u001b[38;5;124m'\u001b[39m] \u001b[38;5;28;01mfor\u001b[39;00m n \u001b[38;5;129;01min\u001b[39;00m nodes \u001b[38;5;28;01mif\u001b[39;00m n[\u001b[38;5;124m'\u001b[39m\u001b[38;5;124mlabel\u001b[39m\u001b[38;5;124m'\u001b[39m] \u001b[38;5;241m==\u001b[39m inlet), \u001b[38;5;28;01mNone\u001b[39;00m)\n\u001b[1;32m---> 53\u001b[0m     edges\u001b[38;5;241m.\u001b[39mappend(create_edge(edge_id, from_node, \u001b[43mnode_id\u001b[49m\u001b[43m \u001b[49m\u001b[38;5;241;43m-\u001b[39;49m\u001b[43m \u001b[49m\u001b[38;5;28;43mlen\u001b[39;49m\u001b[43m(\u001b[49m\u001b[43munit_operations\u001b[49m\u001b[43m)\u001b[49m\u001b[43m \u001b[49m\u001b[38;5;241;43m+\u001b[39;49m\u001b[43m \u001b[49m\u001b[43moperation\u001b[49m\u001b[43m[\u001b[49m\u001b[38;5;124;43m'\u001b[39;49m\u001b[38;5;124;43muid\u001b[39;49m\u001b[38;5;124;43m'\u001b[39;49m\u001b[43m]\u001b[49m, inlet))\n\u001b[0;32m     54\u001b[0m     edge_id \u001b[38;5;241m+\u001b[39m\u001b[38;5;241m=\u001b[39m \u001b[38;5;241m1\u001b[39m\n\u001b[0;32m     56\u001b[0m \u001b[38;5;66;03m# Add edges from unit operations to outlets\u001b[39;00m\n",
      "\u001b[1;31mTypeError\u001b[0m: unsupported operand type(s) for +: 'int' and 'str'"
     ]
    }
   ],
   "source": [
    "unit_operations = [\n",
    "    {'unit': 'HX', 'uid': 'HX1-IC', 'name': 'Heater for Toluene feed stream', 'inlets': ['IC-HI'], 'outlets': ['IC']},\n",
    "    {'unit': 'HX', 'uid': 'HX0-IAB', 'name': 'Heater for Hydrogen feed stream', 'inlets': ['IAB-HI'], 'outlets': ['IAB']},\n",
    "    {'unit': 'MIXER', 'uid': 'M1-R1', 'name': 'Mixer before reactor', 'inlets': ['IC', 'IAB'], 'outlet': ['FRT']}\n",
    "]\n",
    "\n",
    "start_nodes = ['IC-HI', 'IAB-HI']\n",
    "\n",
    "# Initialize empty lists for nodes and edges\n",
    "nodes = []\n",
    "edges = []\n",
    "\n",
    "# Helper function to create nodes\n",
    "def create_node(node_id, label, kind):\n",
    "    return {\n",
    "        \"id\": node_id,\n",
    "        \"label\": label,\n",
    "        \"properties\": {\n",
    "            \"kind\": kind\n",
    "        }\n",
    "    }\n",
    "\n",
    "# Add start nodes\n",
    "node_id = 1\n",
    "for start in start_nodes:\n",
    "    nodes.append(create_node(node_id, start, \"start\"))\n",
    "    node_id += 1\n",
    "\n",
    "# Add unit operation nodes\n",
    "for operation in unit_operations:\n",
    "    if operation['unit'] == 'HX':\n",
    "        kind = 'hx'\n",
    "    elif operation['unit'] == 'MIXER':\n",
    "        kind = 'mixer'\n",
    "    nodes.append(create_node(node_id, operation['uid'], kind))\n",
    "    node_id += 1\n",
    "\n",
    "# Helper function to create edges\n",
    "def create_edge(edge_id, from_node, to_node, label):\n",
    "    return {\n",
    "        \"id\": edge_id,\n",
    "        \"from\": from_node,\n",
    "        \"to\": to_node,\n",
    "        \"label\": label\n",
    "    }\n",
    "\n",
    "# Add edges based on inlets and outlets\n",
    "edge_id = 1\n",
    "for operation in unit_operations:\n",
    "    # Add edges from inlets to unit operations\n",
    "    for inlet in operation['inlets']:\n",
    "        from_node = start_nodes.index(inlet) + 1 if inlet in start_nodes else next((n['id'] for n in nodes if n['label'] == inlet), None)\n",
    "        edges.append(create_edge(edge_id, from_node, node_id - len(unit_operations) + operation['uid'], inlet))\n",
    "        edge_id += 1\n",
    "    \n",
    "    # Add edges from unit operations to outlets\n",
    "    for outlet in operation['outlets']:\n",
    "        from_node = node_id - len(unit_operations) + operation['uid']\n",
    "        to_node = next((n['id'] for n in nodes if n['label'] == outlet), None)\n",
    "        edges.append(create_edge(edge_id, from_node, to_node, outlet))\n",
    "        edge_id += 1\n",
    "\n",
    "# Construct the final graph structure\n",
    "graph = {\n",
    "    \"nodes\": nodes,\n",
    "    \"edges\": edges\n",
    "}\n",
    "\n",
    "# Display the result\n",
    "import json\n",
    "print(json.dumps(graph, indent=2))\n"
   ]
  },
  {
   "cell_type": "code",
   "execution_count": null,
   "metadata": {},
   "outputs": [
    {
     "data": {
      "text/plain": [
       "[{'id': 1, 'label': 'IC-HI', 'properties': {'kind': 'start'}},\n",
       " {'id': 2, 'label': 'IAB-HI', 'properties': {'kind': 'start'}},\n",
       " {'id': 3, 'label': 'HX1-IC', 'properties': {'kind': 'hx'}},\n",
       " {'id': 4, 'label': 'HX0-IAB', 'properties': {'kind': 'hx'}},\n",
       " {'id': 5, 'label': 'M1-R1', 'properties': {'kind': 'mixer'}}]"
      ]
     },
     "execution_count": 11,
     "metadata": {},
     "output_type": "execute_result"
    }
   ],
   "source": [
    "unit_operations = [\n",
    "    {'unit': 'HX', 'uid': 'HX1-IC', 'name': 'Heater for Toluene feed stream', 'inlets': ['IC-HI'], 'outlets': ['IC']},\n",
    "    {'unit': 'HX', 'uid': 'HX0-IAB', 'name': 'Heater for Hydrogen feed stream', 'inlets': ['IAB-HI'], 'outlets': ['IAB']},\n",
    "    {'unit': 'MIXER', 'uid': 'M1-R1', 'name': 'Mixer before reactor', 'inlets': ['IC', 'IAB'], 'outlets': ['FRT']}\n",
    "]\n",
    "\n",
    "start_nodes = ['IC-HI', 'IAB-HI']\n",
    "\n",
    "# Initialize empty lists for nodes and edges\n",
    "nodes = []\n",
    "edges = []\n",
    "\n",
    "# Helper function to create nodes\n",
    "def create_node(node_id, label, kind):\n",
    "    return {\n",
    "        \"id\": node_id,\n",
    "        \"label\": label,\n",
    "        \"properties\": {\n",
    "            \"kind\": kind\n",
    "        }\n",
    "    }\n",
    "\n",
    "# Add start nodes\n",
    "node_id = 1\n",
    "for start in start_nodes:\n",
    "    nodes.append(create_node(node_id, start, \"start\"))\n",
    "    node_id += 1\n",
    "\n",
    "# Add unit operation nodes\n",
    "for operation in unit_operations:\n",
    "    if operation['unit'] == 'HX':\n",
    "        kind = 'hx'\n",
    "    elif operation['unit'] == 'MIXER':\n",
    "        kind = 'mixer'\n",
    "    nodes.append(create_node(node_id, operation['uid'], kind))\n",
    "    node_id += 1\n",
    "\n",
    "nodes"
   ]
  },
  {
   "cell_type": "code",
   "execution_count": null,
   "metadata": {},
   "outputs": [
    {
     "data": {
      "text/plain": [
       "{'unit': 'MIXER',\n",
       " 'uid': 'M1-R1',\n",
       " 'name': 'Mixer before reactor',\n",
       " 'inlets': ['IC', 'IAB'],\n",
       " 'outlets': ['FRT']}"
      ]
     },
     "execution_count": 18,
     "metadata": {},
     "output_type": "execute_result"
    }
   ],
   "source": [
    "operation"
   ]
  },
  {
   "cell_type": "code",
   "execution_count": null,
   "metadata": {},
   "outputs": [
    {
     "data": {
      "text/plain": [
       "['IC', 'IAB']"
      ]
     },
     "execution_count": 19,
     "metadata": {},
     "output_type": "execute_result"
    }
   ],
   "source": [
    "\n",
    "operation['inlets']"
   ]
  },
  {
   "cell_type": "code",
   "execution_count": null,
   "metadata": {},
   "outputs": [
    {
     "data": {
      "text/plain": [
       "['FRT']"
      ]
     },
     "execution_count": 15,
     "metadata": {},
     "output_type": "execute_result"
    }
   ],
   "source": [
    "operation['outlets']"
   ]
  },
  {
   "cell_type": "code",
   "execution_count": null,
   "metadata": {},
   "outputs": [],
   "source": [
    "next((n['id'] for n in nodes if n['label'] == inlet), None)"
   ]
  },
  {
   "cell_type": "code",
   "execution_count": null,
   "metadata": {},
   "outputs": [
    {
     "data": {
      "text/plain": [
       "[{'unit': 'HX',\n",
       "  'uid': 'HX1-IC',\n",
       "  'name': 'Heater for Toluene feed stream',\n",
       "  'inlets': ['IC-HI'],\n",
       "  'outlets': ['IC']},\n",
       " {'unit': 'HX',\n",
       "  'uid': 'HX0-IAB',\n",
       "  'name': 'Heater for Hydrogen feed stream',\n",
       "  'inlets': ['IAB-HI'],\n",
       "  'outlets': ['IAB']},\n",
       " {'unit': 'MIXER',\n",
       "  'uid': 'M1-R1',\n",
       "  'name': 'Mixer before reactor',\n",
       "  'inlets': ['IC', 'IAB'],\n",
       "  'outlets': ['FRT']}]"
      ]
     },
     "execution_count": 21,
     "metadata": {},
     "output_type": "execute_result"
    }
   ],
   "source": [
    "unit_operations"
   ]
  },
  {
   "cell_type": "code",
   "execution_count": null,
   "metadata": {},
   "outputs": [],
   "source": [
    "[\n",
    "  {'unit': 'START',\n",
    "  'uid': 'IC-HI',\n",
    "  'name': 'Start point',\n",
    "  'inlets': [],\n",
    "  'outlets': ['IC-HI']},\n",
    "  {'unit': 'START',\n",
    "  'uid': 'IAB-HI',\n",
    "  'name': 'Start point',\n",
    "  'inlets': [],\n",
    "  'outlets': ['IAB-HI']},\n",
    "  {'unit': 'HX',\n",
    "  'uid': 'HX1-IC',\n",
    "  'name': 'Heater for Toluene feed stream',\n",
    "  'inlets': ['IC-HI'],\n",
    "  'outlets': ['IC']},\n",
    " {'unit': 'HX',\n",
    "  'uid': 'HX0-IAB',\n",
    "  'name': 'Heater for Hydrogen feed stream',\n",
    "  'inlets': ['IAB-HI'],\n",
    "  'outlets': ['IAB']},\n",
    " {'unit': 'MIXER',\n",
    "  'uid': 'M1-R1',\n",
    "  'name': 'Mixer before reactor',\n",
    "  'inlets': ['IC', 'IAB'],\n",
    "  'outlets': ['FRT']}\n",
    "  {'unit': 'END',\n",
    "  'uid': 'FRT',\n",
    "  'name': 'End point',\n",
    "  'inlets': ['FRT'],\n",
    "  'outlets': []}\n",
    "]"
   ]
  },
  {
   "cell_type": "code",
   "execution_count": null,
   "metadata": {},
   "outputs": [
    {
     "data": {
      "text/plain": [
       "[{'id': 1, 'label': 'IC-HI', 'properties': {'kind': 'start'}},\n",
       " {'id': 2, 'label': 'IAB-HI', 'properties': {'kind': 'start'}},\n",
       " {'id': 3, 'label': 'HX1-IC', 'properties': {'kind': 'hx'}},\n",
       " {'id': 4, 'label': 'HX0-IAB', 'properties': {'kind': 'hx'}},\n",
       " {'id': 5, 'label': 'M1-R1', 'properties': {'kind': 'mixer'}}]"
      ]
     },
     "execution_count": 24,
     "metadata": {},
     "output_type": "execute_result"
    }
   ],
   "source": [
    "nodes"
   ]
  },
  {
   "cell_type": "code",
   "execution_count": null,
   "metadata": {},
   "outputs": [
    {
     "data": {
      "text/plain": [
       "'IAB'"
      ]
     },
     "execution_count": 26,
     "metadata": {},
     "output_type": "execute_result"
    }
   ],
   "source": [
    "inlet"
   ]
  },
  {
   "cell_type": "code",
   "execution_count": null,
   "metadata": {},
   "outputs": [
    {
     "data": {
      "text/plain": [
       "[{'id': 1, 'label': 'IC-HI', 'properties': {'kind': 'start'}},\n",
       " {'id': 2, 'label': 'IAB-HI', 'properties': {'kind': 'start'}},\n",
       " {'id': 3, 'label': 'HX1-IC', 'properties': {'kind': 'hx'}},\n",
       " {'id': 4, 'label': 'HX0-IAB', 'properties': {'kind': 'hx'}},\n",
       " {'id': 5, 'label': 'M1-R1', 'properties': {'kind': 'mixer'}}]"
      ]
     },
     "execution_count": 28,
     "metadata": {},
     "output_type": "execute_result"
    }
   ],
   "source": [
    "nodes"
   ]
  },
  {
   "cell_type": "code",
   "execution_count": null,
   "metadata": {},
   "outputs": [],
   "source": [
    "next((n['id'] for n in nodes if n['label'] == inlet), None)"
   ]
  },
  {
   "cell_type": "code",
   "execution_count": null,
   "metadata": {},
   "outputs": [
    {
     "name": "stdout",
     "output_type": "stream",
     "text": [
      "{\n",
      "  \"nodes\": [\n",
      "    {\n",
      "      \"id\": 1,\n",
      "      \"label\": \"IC-HI\",\n",
      "      \"properties\": {\n",
      "        \"kind\": \"start\"\n",
      "      }\n",
      "    },\n",
      "    {\n",
      "      \"id\": 2,\n",
      "      \"label\": \"IAB-HI\",\n",
      "      \"properties\": {\n",
      "        \"kind\": \"start\"\n",
      "      }\n",
      "    },\n",
      "    {\n",
      "      \"id\": 3,\n",
      "      \"label\": \"HX1-IC\",\n",
      "      \"properties\": {\n",
      "        \"kind\": \"hx\"\n",
      "      }\n",
      "    },\n",
      "    {\n",
      "      \"id\": 4,\n",
      "      \"label\": \"HX0-IAB\",\n",
      "      \"properties\": {\n",
      "        \"kind\": \"hx\"\n",
      "      }\n",
      "    },\n",
      "    {\n",
      "      \"id\": 5,\n",
      "      \"label\": \"M1-R1\",\n",
      "      \"properties\": {\n",
      "        \"kind\": \"mixer\"\n",
      "      }\n",
      "    }\n",
      "  ],\n",
      "  \"edges\": [\n",
      "    {\n",
      "      \"id\": 1,\n",
      "      \"from\": 1,\n",
      "      \"to\": 3,\n",
      "      \"label\": \"IC-HI\"\n",
      "    },\n",
      "    {\n",
      "      \"id\": 2,\n",
      "      \"from\": 3,\n",
      "      \"to\": null,\n",
      "      \"label\": \"IC\"\n",
      "    },\n",
      "    {\n",
      "      \"id\": 3,\n",
      "      \"from\": 2,\n",
      "      \"to\": 4,\n",
      "      \"label\": \"IAB-HI\"\n",
      "    },\n",
      "    {\n",
      "      \"id\": 4,\n",
      "      \"from\": 4,\n",
      "      \"to\": null,\n",
      "      \"label\": \"IAB\"\n",
      "    },\n",
      "    {\n",
      "      \"id\": 5,\n",
      "      \"from\": null,\n",
      "      \"to\": 5,\n",
      "      \"label\": \"IC\"\n",
      "    },\n",
      "    {\n",
      "      \"id\": 6,\n",
      "      \"from\": null,\n",
      "      \"to\": 5,\n",
      "      \"label\": \"IAB\"\n",
      "    },\n",
      "    {\n",
      "      \"id\": 7,\n",
      "      \"from\": 5,\n",
      "      \"to\": null,\n",
      "      \"label\": \"FRT\"\n",
      "    }\n",
      "  ]\n",
      "}\n"
     ]
    }
   ],
   "source": [
    "\n",
    "# Helper function to create edges\n",
    "def create_edge(edge_id, from_node, to_node, label):\n",
    "    return {\n",
    "        \"id\": edge_id,\n",
    "        \"from\": from_node,\n",
    "        \"to\": to_node,\n",
    "        \"label\": label\n",
    "    }\n",
    "\n",
    "# Add edges based on inlets and outlets\n",
    "edge_id = 1\n",
    "for operation in unit_operations:\n",
    "    # Add edges from inlets to unit operations\n",
    "    for inlet in operation['inlets']:\n",
    "        # Find the correct node ID for the inlet\n",
    "        from_node = next((n['id'] for n in nodes if n['label'] == inlet), None)\n",
    "        # Find the node ID for the unit operation\n",
    "        to_node = next((n['id'] for n in nodes if n['label'] == operation['uid']), None)\n",
    "        edges.append(create_edge(edge_id, from_node, to_node, inlet))\n",
    "        edge_id += 1\n",
    "    \n",
    "    # Add edges from unit operations to outlets\n",
    "    for outlet in operation['outlets']:\n",
    "        from_node = next((n['id'] for n in nodes if n['label'] == operation['uid']), None)\n",
    "        to_node = next((n['id'] for n in nodes if n['label'] == outlet), None)\n",
    "        edges.append(create_edge(edge_id, from_node, to_node, outlet))\n",
    "        edge_id += 1\n",
    "\n",
    "# Construct the final graph structure\n",
    "graph = {\n",
    "    \"nodes\": nodes,\n",
    "    \"edges\": edges\n",
    "}\n",
    "\n",
    "# Display the result\n",
    "import json\n",
    "print(json.dumps(graph, indent=2))"
   ]
  }
 ],
 "metadata": {
  "kernelspec": {
   "display_name": "base",
   "language": "python",
   "name": "python3"
  },
  "language_info": {
   "codemirror_mode": {
    "name": "ipython",
    "version": 3
   },
   "file_extension": ".py",
   "mimetype": "text/x-python",
   "name": "python",
   "nbconvert_exporter": "python",
   "pygments_lexer": "ipython3",
   "version": "3.11.5"
  }
 },
 "nbformat": 4,
 "nbformat_minor": 2
}

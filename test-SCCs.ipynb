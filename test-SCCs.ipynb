{
 "cells": [
  {
   "cell_type": "code",
   "execution_count": 5,
   "metadata": {},
   "outputs": [
    {
     "data": {
      "text/plain": [
       "[{'id': 1},\n",
       " {'id': 2},\n",
       " {'id': 3},\n",
       " {'id': 4},\n",
       " {'id': 5},\n",
       " {'id': 6},\n",
       " {'id': 7},\n",
       " {'id': 8},\n",
       " {'id': 9},\n",
       " {'id': 10},\n",
       " {'id': 11},\n",
       " {'id': 12},\n",
       " {'id': 13},\n",
       " {'id': 14},\n",
       " {'id': 15},\n",
       " {'id': 16},\n",
       " {'id': 17},\n",
       " {'id': 18},\n",
       " {'id': 19},\n",
       " {'id': 20},\n",
       " {'id': 21},\n",
       " {'id': 22},\n",
       " {'id': 23},\n",
       " {'id': 24},\n",
       " {'id': 25}]"
      ]
     },
     "execution_count": 5,
     "metadata": {},
     "output_type": "execute_result"
    }
   ],
   "source": [
    "nodes = []\n",
    "for i in range(1,26):\n",
    "  nodes.append({'id': i})\n",
    "nodes"
   ]
  },
  {
   "cell_type": "code",
   "execution_count": 20,
   "metadata": {},
   "outputs": [],
   "source": [
    "nodes = []\n",
    "for i in range(1,26):\n",
    "    nodes.append({'id': i})\n",
    "    \n",
    "edges = [\n",
    "    {\n",
    "        \"id\": 1,\n",
    "        \"from\": 1,\n",
    "        \"to\": 4\n",
    "    },\n",
    "    {\n",
    "        \"id\": 2,\n",
    "        \"from\": 2,\n",
    "        \"to\": 3\n",
    "    },\n",
    "    {\n",
    "        \"id\": 3,\n",
    "        \"from\": 3,\n",
    "        \"to\": 18\n",
    "    },\n",
    "    {\n",
    "        \"id\": 4,\n",
    "        \"from\": 4,\n",
    "        \"to\": 18\n",
    "    },\n",
    "    {\n",
    "        \"id\": 5,\n",
    "        \"from\": 5,\n",
    "        \"to\": 6\n",
    "    },\n",
    "    {\n",
    "        \"id\": 6,\n",
    "        \"from\": 6,\n",
    "        \"to\": 7\n",
    "    },\n",
    "    {\n",
    "        \"id\": 7,\n",
    "        \"from\": 7,\n",
    "        \"to\": 8\n",
    "    },\n",
    "    {\n",
    "        \"id\": 8,\n",
    "        \"from\": 8,\n",
    "        \"to\": 9\n",
    "    },\n",
    "    {\n",
    "        \"id\": 9,\n",
    "        \"from\": 8,\n",
    "        \"to\": 12\n",
    "    },\n",
    "    {\n",
    "        \"id\": 10,\n",
    "        \"from\": 9,\n",
    "        \"to\": 23\n",
    "    },\n",
    "    {\n",
    "        \"id\": 11,\n",
    "        \"from\": 9,\n",
    "        \"to\": 10\n",
    "    },\n",
    "    {\n",
    "        \"id\": 12,\n",
    "        \"from\": 10,\n",
    "        \"to\": 11\n",
    "    },\n",
    "    {\n",
    "        \"id\": 13,\n",
    "        \"from\": 11,\n",
    "        \"to\": 18\n",
    "    },\n",
    "    {\n",
    "        \"id\": 14,\n",
    "        \"from\": 12,\n",
    "        \"to\": 21\n",
    "    },\n",
    "    {\n",
    "        \"id\": 15,\n",
    "        \"from\": 12,\n",
    "        \"to\": 13\n",
    "    },\n",
    "    {\n",
    "        \"id\": 16,\n",
    "        \"from\": 13,\n",
    "        \"to\": 14\n",
    "    },\n",
    "    {\n",
    "        \"id\": 17,\n",
    "        \"from\": 13,\n",
    "        \"to\": 19\n",
    "    },\n",
    "    {\n",
    "        \"id\": 18,\n",
    "        \"from\": 14,\n",
    "        \"to\": 20\n",
    "    },\n",
    "    {\n",
    "        \"id\": 19,\n",
    "        \"from\": 14,\n",
    "        \"to\": 15\n",
    "    },\n",
    "    {\n",
    "        \"id\": 20,\n",
    "        \"from\": 15,\n",
    "        \"to\": 24\n",
    "    },\n",
    "    {\n",
    "        \"id\": 21,\n",
    "        \"from\": 15,\n",
    "        \"to\": 16\n",
    "    },\n",
    "    {\n",
    "        \"id\": 22,\n",
    "        \"from\": 16,\n",
    "        \"to\": 17\n",
    "    },\n",
    "    {\n",
    "        \"id\": 23,\n",
    "        \"from\": 17,\n",
    "        \"to\": 18\n",
    "    },\n",
    "    {\n",
    "        \"id\": 24,\n",
    "        \"from\": 18,\n",
    "        \"to\": 5\n",
    "    },\n",
    "    {\n",
    "        \"id\": 25,\n",
    "        \"from\": 19,\n",
    "        \"to\": 25\n",
    "    },\n",
    "    {\n",
    "        \"id\": 26,\n",
    "        \"from\": 20,\n",
    "        \"to\": 22\n",
    "    }\n",
    "]"
   ]
  },
  {
   "cell_type": "code",
   "execution_count": null,
   "metadata": {},
   "outputs": [],
   "source": [
    "nodes = [\n",
    "    {'id': 1},\n",
    "    {'id': 2},\n",
    "    {'id': 3},\n",
    "    {'id': 4},\n",
    "    {'id': 5},\n",
    "]\n",
    "edges = [\n",
    "    {'from': 1, 'to': 2},\n",
    "    {'from': 2, 'to': 3},\n",
    "    {'from': 3, 'to': 4},\n",
    "    {'from': 4, 'to': 2},\n",
    "    {'from': 4, 'to': 5},\n",
    "]"
   ]
  },
  {
   "cell_type": "code",
   "execution_count": 21,
   "metadata": {},
   "outputs": [
    {
     "name": "stdout",
     "output_type": "stream",
     "text": [
      "{1: [4], 2: [3], 3: [18], 4: [18], 5: [6], 6: [7], 7: [8], 8: [9, 12], 9: [23, 10], 10: [11], 11: [18], 12: [21, 13], 13: [14, 19], 14: [20, 15], 15: [24, 16], 16: [17], 17: [18], 18: [5], 19: [25], 20: [22], 21: [], 22: [], 23: [], 24: [], 25: []}\n"
     ]
    }
   ],
   "source": [
    "\n",
    "\n",
    "# Create an adjacency list\n",
    "graph = {}\n",
    "for node in nodes:\n",
    "    graph[node['id']] = []\n",
    "\n",
    "for edge in edges:\n",
    "    graph[edge['from']].append(edge['to'])\n",
    "\n",
    "print(graph)\n",
    "# Output: {1: [2], 2: [3], 3: [4], 4: [2, 5], 5: []}\n"
   ]
  },
  {
   "cell_type": "code",
   "execution_count": 22,
   "metadata": {},
   "outputs": [
    {
     "name": "stdout",
     "output_type": "stream",
     "text": [
      "Back edges removed (causing cycles): [(11, 18), (17, 18)]\n",
      "Graph after removing cycles: {1: [4], 2: [3], 3: [18], 4: [18], 5: [6], 6: [7], 7: [8], 8: [9, 12], 9: [23, 10], 10: [11], 11: [], 12: [21, 13], 13: [14, 19], 14: [20, 15], 15: [24, 16], 16: [17], 17: [], 18: [5], 19: [25], 20: [22], 21: [], 22: [], 23: [], 24: [], 25: []}\n"
     ]
    }
   ],
   "source": [
    "def dfs(node, graph, visited, stack, back_edges):\n",
    "    visited.add(node)\n",
    "    stack.add(node)\n",
    "\n",
    "    for neighbor in graph[node]:\n",
    "        if neighbor not in visited:\n",
    "            dfs(neighbor, graph, visited, stack, back_edges)\n",
    "        elif neighbor in stack:  # Cycle detected\n",
    "            back_edges.append((node, neighbor))  # Store the edge causing the cycle\n",
    "\n",
    "    stack.remove(node)\n",
    "\n",
    "def remove_cycles(graph):\n",
    "    visited = set()\n",
    "    stack = set()\n",
    "    back_edges = []\n",
    "\n",
    "    for node in graph:\n",
    "        if node not in visited:\n",
    "            dfs(node, graph, visited, stack, back_edges)\n",
    "\n",
    "    # Remove back edges\n",
    "    for from_node, to_node in back_edges:\n",
    "        graph[from_node].remove(to_node)\n",
    "\n",
    "    return back_edges\n",
    "\n",
    "# Remove cycles\n",
    "back_edges = remove_cycles(graph)\n",
    "print(\"Back edges removed (causing cycles):\", back_edges)\n",
    "print(\"Graph after removing cycles:\", graph)\n"
   ]
  },
  {
   "cell_type": "code",
   "execution_count": 10,
   "metadata": {},
   "outputs": [
    {
     "name": "stdout",
     "output_type": "stream",
     "text": [
      "DFS result: [1, 4, 18, 5, 6, 7, 8, 9, 23, 10, 11, 12, 21, 13, 14, 20, 22, 15, 24, 16, 17, 19, 25]\n"
     ]
    }
   ],
   "source": [
    "def dfs_clean(node, graph, visited, result):\n",
    "    if node in visited:\n",
    "        return\n",
    "    visited.add(node)\n",
    "    result.append(node)\n",
    "    for neighbor in graph[node]:\n",
    "        dfs_clean(neighbor, graph, visited, result)\n",
    "\n",
    "# Example DFS\n",
    "visited = set()\n",
    "result = []\n",
    "dfs_clean(1, graph, visited, result)\n",
    "print(\"DFS result:\", result)\n",
    "# Output: DFS result: [1, 2, 3, 4, 5]\n"
   ]
  },
  {
   "cell_type": "code",
   "execution_count": 19,
   "metadata": {},
   "outputs": [
    {
     "name": "stdout",
     "output_type": "stream",
     "text": [
      "Longest chain: [1, 2, 3, 4]\n"
     ]
    }
   ],
   "source": [
    "nodes = [\n",
    "    {'id': 1},\n",
    "    {'id': 2},\n",
    "    {'id': 3},\n",
    "    {'id': 4},\n",
    "    {'id': 5},\n",
    "]\n",
    "edges = [\n",
    "    {'from': 1, 'to': 2},\n",
    "    {'from': 2, 'to': 3},\n",
    "    {'from': 3, 'to': 4},\n",
    "    {'from': 2, 'to': 5},\n",
    "]\n",
    "\n",
    "# Build the graph\n",
    "graph = {}\n",
    "for node in nodes:\n",
    "    graph[node['id']] = []\n",
    "\n",
    "for edge in edges:\n",
    "    graph[edge['from']].append(edge['to'])\n",
    "\n",
    "# Depth-First Search function to find the longest chain\n",
    "def dfs_longest_path(graph, start, path=None):\n",
    "    if path is None:\n",
    "        path = []\n",
    "\n",
    "    path.append(start)  # Add the current node to the path\n",
    "    longest_path = path.copy()  # Assume current path is the longest for now\n",
    "\n",
    "    for neighbor in graph[start]:\n",
    "        new_path = dfs_longest_path(graph, neighbor, path)\n",
    "        if len(new_path) > len(longest_path):\n",
    "            longest_path = new_path\n",
    "\n",
    "    path.pop()  # Backtrack\n",
    "    return longest_path\n",
    "\n",
    "# Find the longest path starting from node 1\n",
    "longest_chain = dfs_longest_path(graph, 1)\n",
    "print(\"Longest chain:\", longest_chain)\n"
   ]
  },
  {
   "cell_type": "code",
   "execution_count": 24,
   "metadata": {},
   "outputs": [
    {
     "name": "stdout",
     "output_type": "stream",
     "text": [
      "Longest chain: [1, 4, 18, 5, 6, 7, 8, 12, 13, 14, 15, 16, 17]\n"
     ]
    }
   ],
   "source": [
    "longest_chain = dfs_longest_path(graph, 1)\n",
    "print(\"Longest chain:\", longest_chain)"
   ]
  }
 ],
 "metadata": {
  "kernelspec": {
   "display_name": "base",
   "language": "python",
   "name": "python3"
  },
  "language_info": {
   "codemirror_mode": {
    "name": "ipython",
    "version": 3
   },
   "file_extension": ".py",
   "mimetype": "text/x-python",
   "name": "python",
   "nbconvert_exporter": "python",
   "pygments_lexer": "ipython3",
   "version": "3.11.5"
  }
 },
 "nbformat": 4,
 "nbformat_minor": 2
}

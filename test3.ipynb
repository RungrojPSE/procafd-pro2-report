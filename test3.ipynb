{
 "cells": [
  {
   "cell_type": "code",
   "execution_count": 1,
   "metadata": {},
   "outputs": [],
   "source": [
    "%load_ext autoreload\n",
    "%autoreload 2"
   ]
  },
  {
   "cell_type": "code",
   "execution_count": null,
   "metadata": {},
   "outputs": [],
   "source": [
    "from operationUnits import * \n",
    "from graph import *\n",
    "nodes, edges = parse_ctx()\n",
    "# assign_level(nodes, edges, 1)\n",
    "edges"
   ]
  },
  {
   "cell_type": "code",
   "execution_count": 18,
   "metadata": {},
   "outputs": [
    {
     "name": "stdout",
     "output_type": "stream",
     "text": [
      "{1: [2], 2: [5, 3], 3: [4], 4: [5], 5: []}\n",
      "data.json created successfully!\n"
     ]
    },
    {
     "data": {
      "text/plain": [
       "[{'id': 1, 'label': '1', 'level': 0},\n",
       " {'id': 2, 'label': '2', 'level': 1},\n",
       " {'id': 3, 'label': '3', 'level': 2},\n",
       " {'id': 4, 'label': '4', 'level': 3},\n",
       " {'id': 5, 'label': '5', 'level': 2}]"
      ]
     },
     "execution_count": 18,
     "metadata": {},
     "output_type": "execute_result"
    }
   ],
   "source": [
    "nodes = [\n",
    "  {'id': 1, 'label': \"1\"},\n",
    "  {'id': 2, 'label': \"2\"},\n",
    "  {'id': 3, 'label': \"3\"},\n",
    "  {'id': 4, 'label': \"4\"},\n",
    "  {'id': 5, 'label': \"5\"},\n",
    "]\n",
    "edges = [\n",
    "  {'from': 1, 'to': 2},\n",
    "  {'from': 2, 'to': 5},\n",
    "  {'from': 2, 'to': 3},\n",
    "  {'from': 3, 'to': 4},\n",
    "  {'from': 4, 'to': 5},\n",
    "]\n",
    "\n",
    "assign_level(nodes, edges, 0)"
   ]
  },
  {
   "cell_type": "code",
   "execution_count": null,
   "metadata": {},
   "outputs": [
    {
     "name": "stdout",
     "output_type": "stream",
     "text": [
      "data.json created successfully!\n"
     ]
    },
    {
     "data": {
      "text/plain": [
       "[{'id': 1, 'label': '1', 'level': 0},\n",
       " {'id': 2, 'label': '2', 'level': 1},\n",
       " {'id': 3, 'label': '3', 'level': 2},\n",
       " {'id': 4, 'label': '4', 'level': 3},\n",
       " {'id': 5, 'label': '5', 'level': 4}]"
      ]
     },
     "execution_count": 11,
     "metadata": {},
     "output_type": "execute_result"
    }
   ],
   "source": []
  },
  {
   "cell_type": "code",
   "execution_count": 4,
   "metadata": {},
   "outputs": [
    {
     "ename": "SyntaxError",
     "evalue": "incomplete input (3794123863.py, line 2)",
     "output_type": "error",
     "traceback": [
      "\u001b[1;36m  Cell \u001b[1;32mIn[4], line 2\u001b[1;36m\u001b[0m\n\u001b[1;33m    # print(edge)\u001b[0m\n\u001b[1;37m                 ^\u001b[0m\n\u001b[1;31mSyntaxError\u001b[0m\u001b[1;31m:\u001b[0m incomplete input\n"
     ]
    }
   ],
   "source": [
    "for edge in edges:\n",
    "  # print(edge)"
   ]
  },
  {
   "cell_type": "code",
   "execution_count": null,
   "metadata": {},
   "outputs": [],
   "source": [
    "foreach (var ed in Edges)\n",
    "{\n",
    "    var eds = Edges.Where(e => e.From == ed.To).ToList();\n",
    "    var label = ProcessGroups.FirstOrDefault(p => p.Id == ed.To).Name;\n",
    "\n",
    "    var formPg = ProcessGroups.FirstOrDefault(p => p.Id == ed.From);\n",
    "    var toPg = ProcessGroups.FirstOrDefault(p => p.Id == ed.To);\n",
    "\n",
    "    foreach (var ed2 in eds)\n",
    "    {\n",
    "        var n0 = ed.From.ToString() + \"-\" + ed.To.ToString();\n",
    "        var n1 = ed2.From.ToString() + \"-\" + ed2.To.ToString();\n",
    "\n",
    "        var ee = new { \n",
    "            From = n0, \n",
    "            To = n1, \n",
    "            Label = label,\n",
    "            Properties = ed.Properties\n",
    "        };\n",
    "        edgeHs.Add(ee);\n",
    "    }\n",
    "\n",
    "    var nid = ed.From.ToString() + \"-\" + ed.To.ToString();\n",
    "    var nlevel = ProcessGroups.FirstOrDefault(p => p.Id == ed.From).Level;\n",
    "\n",
    "    var cat = \"Linked process-bond\";\n",
    "    if (ed.Properties.ContainsKey(\"recycle\") && (bool)ed.Properties[\"recycle\"])\n",
    "    {\n",
    "        cat = \"Recycle process-bond\";\n",
    "    }\n",
    "    if (formPg.Kind == \"Start\")\n",
    "    {\n",
    "        cat = \"Input process-bond\";\n",
    "    }\n",
    "    else if (toPg.Kind == \"End\")\n",
    "    {\n",
    "        cat = \"Output process-bond\";\n",
    "    }\n",
    "    //var color = new NodeColor { Background = categoryColor[cat], Border = borderColor };\n",
    "    nodeHs.Add(new { \n",
    "        Id = nid, \n",
    "        Level = nlevel, \n",
    "        Label = ed.Label,\n",
    "        Properties = new Dictionary<string, object> { { \"role\", cat } }\n",
    "    });\n",
    "\n",
    "}\n",
    "//nodeHs = nodeHs.OrderBy(n => n.Level).ToList();\n",
    "nodeHs = nodeHs.OrderBy(n => n.Level).ToList();\n",
    "\n",
    "JsonData.Save(nodeHs, \"result2.json\");\n",
    "\n",
    "\n",
    "// Convert into numeric id\n",
    "var reassignIds = new Dictionary<string, int>();\n",
    "\n",
    "var ChmicalUnits = ProcessGroups\n",
    ".Where(p => p.Kind != \"Start\" && p.Kind != \"End\")\n",
    ".OrderBy(p => p.Id)\n",
    ".Select(p => new Entry { Label = p.Name, Value = p.SubKind ?? p.Kind })\n",
    ".ToList();\n",
    "\n",
    "var hyp1 = new HypergraphLv1\n",
    "{\n",
    "    Components = Components,\n",
    "    Processes = ChmicalUnits,\n",
    "    Roles = roles,\n",
    "    Esfiles = Esfiles,\n",
    "};\n",
    "var nodes = hyp1.Nodes;\n",
    "var edges = hyp1.Edges;\n",
    "\n",
    "var newId = 0;\n",
    "foreach (var nh in nodeHs)\n",
    "{\n",
    "    newId++;\n",
    "    reassignIds[nh.Id] = newId;\n",
    "    nodes.Add(new Node { Id = newId, Label = nh.Label, Level = nh.Level, Properties = nh.Properties });\n",
    "}\n",
    "\n",
    "newId = 0;\n",
    "foreach (var eh in edgeHs)\n",
    "{\n",
    "    var nodeFrom = reassignIds[eh.From];\n",
    "    var nodeTo = reassignIds[eh.To];\n",
    "    edges.Add(new Edge { Id = ++newId, From = nodeFrom, To = nodeTo, Label = eh.Label, Properties = eh.Properties });\n",
    "}"
   ]
  },
  {
   "cell_type": "code",
   "execution_count": 52,
   "metadata": {},
   "outputs": [
    {
     "data": {
      "text/plain": [
       "[{'id': 1,\n",
       "  'label': 'IAB-HI',\n",
       "  'properties': {'kind': 'START',\n",
       "   'in': [],\n",
       "   'out': ['IAB-HI'],\n",
       "   'temperature': 300,\n",
       "   'pressure': '3445.05',\n",
       "   'composition': [[1, 0.9], [2, 0.1]]}},\n",
       " {'id': 2,\n",
       "  'label': 'IC-HI',\n",
       "  'properties': {'kind': 'START',\n",
       "   'in': [],\n",
       "   'out': ['IC-HI'],\n",
       "   'temperature': 300,\n",
       "   'pressure': '3445.05',\n",
       "   'composition': [[3, 1.0]]}},\n",
       " {'id': 3,\n",
       "  'label': 'HX1-IC',\n",
       "  'properties': {'kind': 'HX',\n",
       "   'in': ['IC-HI'],\n",
       "   'out': ['IC'],\n",
       "   'description': 'Heater for Toluene feed stream'}},\n",
       " {'id': 4,\n",
       "  'label': 'HX0-IAB',\n",
       "  'properties': {'kind': 'HX',\n",
       "   'in': ['IAB-HI'],\n",
       "   'out': ['IAB'],\n",
       "   'description': 'Heater for Hydrogen feed stream'}},\n",
       " {'id': 5,\n",
       "  'label': 'R1',\n",
       "  'properties': {'kind': 'CONREACTOR',\n",
       "   'in': ['FRT'],\n",
       "   'out': ['INTER1'],\n",
       "   'description': 'Reactor 1'}},\n",
       " {'id': 6,\n",
       "  'label': 'R2',\n",
       "  'properties': {'kind': 'CONREACTOR',\n",
       "   'in': ['INTER1'],\n",
       "   'out': ['ABCDE-HI'],\n",
       "   'description': 'Reactor 2'}},\n",
       " {'id': 7,\n",
       "  'label': 'HX2-ABCDE',\n",
       "  'properties': {'kind': 'HX',\n",
       "   'in': ['ABCDE-HI'],\n",
       "   'out': ['ABCDE'],\n",
       "   'description': 'Cooler after reactor'}},\n",
       " {'id': 8,\n",
       "  'label': 'F1-ECD-AB',\n",
       "  'properties': {'kind': 'FLASH',\n",
       "   'in': ['ABCDE'],\n",
       "   'out': ['AB', 'ABCDE-INT'],\n",
       "   'description': 'Flash Drum'}},\n",
       " {'id': 9,\n",
       "  'label': 'SP1-RAB',\n",
       "  'properties': {'kind': 'SPLITTER',\n",
       "   'in': ['AB'],\n",
       "   'out': ['S1-RAB', 'RAB-PC'],\n",
       "   'description': 'Splitter for Hydrogen'}},\n",
       " {'id': 10,\n",
       "  'label': 'PC0-RAB',\n",
       "  'properties': {'kind': 'COMPRESSOR',\n",
       "   'in': ['RAB-PC'],\n",
       "   'out': ['RAB-HI'],\n",
       "   'description': 'Compressor for Hydrogen'}},\n",
       " {'id': 11,\n",
       "  'label': 'HX0-RAB',\n",
       "  'properties': {'kind': 'HX',\n",
       "   'in': ['RAB-HI'],\n",
       "   'out': ['RAB'],\n",
       "   'description': 'Heater for recycled Hydrogen stream'}},\n",
       " {'id': 12,\n",
       "  'label': 'DIST-ECD-AB',\n",
       "  'properties': {'kind': 'COLUMN',\n",
       "   'in': ['ABCDE-INT'],\n",
       "   'out': ['AB-FL', 'CDE'],\n",
       "   'description': 'DIstillation Column 1'}},\n",
       " {'id': 13,\n",
       "  'label': 'DIST-E-CD',\n",
       "  'properties': {'kind': 'COLUMN',\n",
       "   'in': ['CDE'],\n",
       "   'out': ['CD', 'E'],\n",
       "   'description': 'Distillation Column 2'}},\n",
       " {'id': 14,\n",
       "  'label': 'DIST-C-D',\n",
       "  'properties': {'kind': 'COLUMN',\n",
       "   'in': ['CD'],\n",
       "   'out': ['D', 'C'],\n",
       "   'description': 'Distillation Column 3'}},\n",
       " {'id': 15,\n",
       "  'label': 'SP1-RC',\n",
       "  'properties': {'kind': 'SPLITTER',\n",
       "   'in': ['C'],\n",
       "   'out': ['S1-RC', 'RC-PU'],\n",
       "   'description': 'Splitter for Toluene'}},\n",
       " {'id': 16,\n",
       "  'label': 'P1-RC',\n",
       "  'properties': {'kind': 'PUMP',\n",
       "   'in': ['RC-PU'],\n",
       "   'out': ['RC-HI'],\n",
       "   'description': 'Pump for Toluene'}},\n",
       " {'id': 17,\n",
       "  'label': 'HX1-RC',\n",
       "  'properties': {'kind': 'HX',\n",
       "   'in': ['RC-HI'],\n",
       "   'out': ['RC'],\n",
       "   'description': 'Heater for recycled Toluene stream'}},\n",
       " {'id': 18,\n",
       "  'label': 'M1-R1',\n",
       "  'properties': {'kind': 'MIXER',\n",
       "   'in': ['RAB', 'RC', 'IC', 'IAB'],\n",
       "   'out': ['FRT'],\n",
       "   'description': 'Mixer before reactor'}},\n",
       " {'id': 19,\n",
       "  'label': 'HX1-E',\n",
       "  'properties': {'kind': 'HX',\n",
       "   'in': ['E'],\n",
       "   'out': ['E-STORAGE'],\n",
       "   'description': 'Cooler for Biphenyl to storage'}},\n",
       " {'id': 20,\n",
       "  'label': 'HX0-D',\n",
       "  'properties': {'kind': 'HX',\n",
       "   'in': ['D'],\n",
       "   'out': ['D-STORAGE'],\n",
       "   'description': 'Cooler for Benzene to storage'}},\n",
       " {'id': 21,\n",
       "  'label': 'AB-FL',\n",
       "  'properties': {'kind': 'END', 'in': ['AB-FL'], 'out': []}},\n",
       " {'id': 22,\n",
       "  'label': 'D-STORAGE',\n",
       "  'properties': {'kind': 'END', 'in': ['D-STORAGE'], 'out': []}},\n",
       " {'id': 23,\n",
       "  'label': 'S1-RAB',\n",
       "  'properties': {'kind': 'END', 'in': ['S1-RAB'], 'out': []}},\n",
       " {'id': 24,\n",
       "  'label': 'E-STORAGE',\n",
       "  'properties': {'kind': 'END', 'in': ['E-STORAGE'], 'out': []}},\n",
       " {'id': 25,\n",
       "  'label': 'S1-RC',\n",
       "  'properties': {'kind': 'END', 'in': ['S1-RC'], 'out': []}}]"
      ]
     },
     "execution_count": 52,
     "metadata": {},
     "output_type": "execute_result"
    }
   ],
   "source": [
    "nodes"
   ]
  },
  {
   "cell_type": "code",
   "execution_count": 3,
   "metadata": {},
   "outputs": [],
   "source": [
    "a,b,c = longest_path(nodes, edges, 1)\n",
    "\n"
   ]
  },
  {
   "cell_type": "code",
   "execution_count": null,
   "metadata": {},
   "outputs": [
    {
     "name": "stdout",
     "output_type": "stream",
     "text": [
      "data.json created successfully!\n"
     ]
    },
    {
     "data": {
      "text/plain": [
       "[{'id': 1,\n",
       "  'label': 'IAB-HI',\n",
       "  'properties': {'kind': 'START',\n",
       "   'in': [],\n",
       "   'out': ['IAB-HI'],\n",
       "   'temperature': 300,\n",
       "   'pressure': '3445.05',\n",
       "   'composition': [[1, 0.9], [2, 0.1]]},\n",
       "  'level': 0},\n",
       " {'id': 2,\n",
       "  'label': 'IC-HI',\n",
       "  'properties': {'kind': 'START',\n",
       "   'in': [],\n",
       "   'out': ['IC-HI'],\n",
       "   'temperature': 300,\n",
       "   'pressure': '3445.05',\n",
       "   'composition': [[3, 1.0]]},\n",
       "  'level': 0},\n",
       " {'id': 3,\n",
       "  'label': 'HX1-IC',\n",
       "  'properties': {'kind': 'HX',\n",
       "   'in': ['IC-HI'],\n",
       "   'out': ['IC'],\n",
       "   'description': 'Heater for Toluene feed stream'},\n",
       "  'level': 1},\n",
       " {'id': 4,\n",
       "  'label': 'HX0-IAB',\n",
       "  'properties': {'kind': 'HX',\n",
       "   'in': ['IAB-HI'],\n",
       "   'out': ['IAB'],\n",
       "   'description': 'Heater for Hydrogen feed stream'},\n",
       "  'level': 1},\n",
       " {'id': 5,\n",
       "  'label': 'R1',\n",
       "  'properties': {'kind': 'CONREACTOR',\n",
       "   'in': ['FRT'],\n",
       "   'out': ['INTER1'],\n",
       "   'description': 'Reactor 1'},\n",
       "  'level': 3},\n",
       " {'id': 6,\n",
       "  'label': 'R2',\n",
       "  'properties': {'kind': 'CONREACTOR',\n",
       "   'in': ['INTER1'],\n",
       "   'out': ['ABCDE-HI'],\n",
       "   'description': 'Reactor 2'},\n",
       "  'level': 4},\n",
       " {'id': 7,\n",
       "  'label': 'HX2-ABCDE',\n",
       "  'properties': {'kind': 'HX',\n",
       "   'in': ['ABCDE-HI'],\n",
       "   'out': ['ABCDE'],\n",
       "   'description': 'Cooler after reactor'},\n",
       "  'level': 5},\n",
       " {'id': 8,\n",
       "  'label': 'F1-ECD-AB',\n",
       "  'properties': {'kind': 'FLASH',\n",
       "   'in': ['ABCDE'],\n",
       "   'out': ['AB', 'ABCDE-INT'],\n",
       "   'description': 'Flash Drum'},\n",
       "  'level': 6},\n",
       " {'id': 9,\n",
       "  'label': 'SP1-RAB',\n",
       "  'properties': {'kind': 'SPLITTER',\n",
       "   'in': ['AB'],\n",
       "   'out': ['S1-RAB', 'RAB-PC'],\n",
       "   'description': 'Splitter for Hydrogen'},\n",
       "  'level': 7},\n",
       " {'id': 10,\n",
       "  'label': 'PC0-RAB',\n",
       "  'properties': {'kind': 'COMPRESSOR',\n",
       "   'in': ['RAB-PC'],\n",
       "   'out': ['RAB-HI'],\n",
       "   'description': 'Compressor for Hydrogen'},\n",
       "  'level': 8},\n",
       " {'id': 11,\n",
       "  'label': 'HX0-RAB',\n",
       "  'properties': {'kind': 'HX',\n",
       "   'in': ['RAB-HI'],\n",
       "   'out': ['RAB'],\n",
       "   'description': 'Heater for recycled Hydrogen stream'},\n",
       "  'level': 9},\n",
       " {'id': 12,\n",
       "  'label': 'DIST-ECD-AB',\n",
       "  'properties': {'kind': 'COLUMN',\n",
       "   'in': ['ABCDE-INT'],\n",
       "   'out': ['AB-FL', 'CDE'],\n",
       "   'description': 'DIstillation Column 1'},\n",
       "  'level': 7},\n",
       " {'id': 13,\n",
       "  'label': 'DIST-E-CD',\n",
       "  'properties': {'kind': 'COLUMN',\n",
       "   'in': ['CDE'],\n",
       "   'out': ['CD', 'E'],\n",
       "   'description': 'Distillation Column 2'},\n",
       "  'level': 8},\n",
       " {'id': 14,\n",
       "  'label': 'DIST-C-D',\n",
       "  'properties': {'kind': 'COLUMN',\n",
       "   'in': ['CD'],\n",
       "   'out': ['D', 'C'],\n",
       "   'description': 'Distillation Column 3'},\n",
       "  'level': 9},\n",
       " {'id': 15,\n",
       "  'label': 'SP1-RC',\n",
       "  'properties': {'kind': 'SPLITTER',\n",
       "   'in': ['C'],\n",
       "   'out': ['S1-RC', 'RC-PU'],\n",
       "   'description': 'Splitter for Toluene'},\n",
       "  'level': 10},\n",
       " {'id': 16,\n",
       "  'label': 'P1-RC',\n",
       "  'properties': {'kind': 'PUMP',\n",
       "   'in': ['RC-PU'],\n",
       "   'out': ['RC-HI'],\n",
       "   'description': 'Pump for Toluene'},\n",
       "  'level': 11},\n",
       " {'id': 17,\n",
       "  'label': 'HX1-RC',\n",
       "  'properties': {'kind': 'HX',\n",
       "   'in': ['RC-HI'],\n",
       "   'out': ['RC'],\n",
       "   'description': 'Heater for recycled Toluene stream'},\n",
       "  'level': 12},\n",
       " {'id': 18,\n",
       "  'label': 'M1-R1',\n",
       "  'properties': {'kind': 'MIXER',\n",
       "   'in': ['RAB', 'RC', 'IC', 'IAB'],\n",
       "   'out': ['FRT'],\n",
       "   'description': 'Mixer before reactor'},\n",
       "  'level': 2},\n",
       " {'id': 19,\n",
       "  'label': 'HX1-E',\n",
       "  'properties': {'kind': 'HX',\n",
       "   'in': ['E'],\n",
       "   'out': ['E-STORAGE'],\n",
       "   'description': 'Cooler for Biphenyl to storage'},\n",
       "  'level': 9},\n",
       " {'id': 20,\n",
       "  'label': 'HX0-D',\n",
       "  'properties': {'kind': 'HX',\n",
       "   'in': ['D'],\n",
       "   'out': ['D-STORAGE'],\n",
       "   'description': 'Cooler for Benzene to storage'},\n",
       "  'level': 10},\n",
       " {'id': 21,\n",
       "  'label': 'S1-RAB',\n",
       "  'properties': {'kind': 'END', 'in': ['S1-RAB'], 'out': []},\n",
       "  'level': 8},\n",
       " {'id': 22,\n",
       "  'label': 'S1-RC',\n",
       "  'properties': {'kind': 'END', 'in': ['S1-RC'], 'out': []},\n",
       "  'level': 11},\n",
       " {'id': 23,\n",
       "  'label': 'AB-FL',\n",
       "  'properties': {'kind': 'END', 'in': ['AB-FL'], 'out': []},\n",
       "  'level': 8},\n",
       " {'id': 24,\n",
       "  'label': 'D-STORAGE',\n",
       "  'properties': {'kind': 'END', 'in': ['D-STORAGE'], 'out': []},\n",
       "  'level': 11},\n",
       " {'id': 25,\n",
       "  'label': 'E-STORAGE',\n",
       "  'properties': {'kind': 'END', 'in': ['E-STORAGE'], 'out': []},\n",
       "  'level': 10}]"
      ]
     },
     "execution_count": 2,
     "metadata": {},
     "output_type": "execute_result"
    }
   ],
   "source": []
  },
  {
   "cell_type": "code",
   "execution_count": 19,
   "metadata": {},
   "outputs": [],
   "source": [
    "nodes = []\n",
    "for i in range(1,26):\n",
    "    nodes.append({'id': i})\n",
    "    \n",
    "edges = [\n",
    "    {'from': 1, 'to': 4},\n",
    "    {'from': 2, 'to': 3},\n",
    "    {'from': 3, 'to': 18},\n",
    "    {'from': 4, 'to': 18},\n",
    "    {'from': 5, 'to': 6},\n",
    "    {'from': 6, 'to': 7},\n",
    "    {'from': 7, 'to': 8},\n",
    "    {'from': 8, 'to': 9},\n",
    "    {'from': 8, 'to': 12},\n",
    "    {'from': 9, 'to': 23},\n",
    "    {'from': 9, 'to': 10},\n",
    "    {'from': 10, 'to': 11},\n",
    "    {'from': 11, 'to': 18},\n",
    "    {'from': 12, 'to': 25},\n",
    "    {'from': 12, 'to': 13},\n",
    "    {'from': 13, 'to': 14},\n",
    "    {'from': 13, 'to': 19},\n",
    "    {'from': 14, 'to': 20},\n",
    "    {'from': 14, 'to': 15},\n",
    "    {'from': 15, 'to': 24},\n",
    "    {'from': 15, 'to': 16},\n",
    "    {'from': 16, 'to': 17},\n",
    "    {'from': 17, 'to': 18},\n",
    "    {'from': 18, 'to': 5},\n",
    "    {'from': 19, 'to': 22},\n",
    "    {'from': 20, 'to': 21}\n",
    "]\n",
    "\n",
    "longest_path = [1, 4, 18, 5, 6, 7, 8, 12, 13, 14, 15, 16, 17]"
   ]
  },
  {
   "cell_type": "code",
   "execution_count": null,
   "metadata": {},
   "outputs": [
    {
     "data": {
      "text/plain": [
       "{1: [2], 2: [3, 5], 3: [4], 4: [], 5: [], 6: [2]}"
      ]
     },
     "execution_count": 21,
     "metadata": {},
     "output_type": "execute_result"
    }
   ],
   "source": [
    "nodes = [\n",
    "    {'id': 1},\n",
    "    {'id': 2},\n",
    "    {'id': 3},\n",
    "    {'id': 4},\n",
    "    {'id': 5},\n",
    "    {'id': 6},\n",
    "]\n",
    "edges = [\n",
    "    {'from': 1, 'to': 2},\n",
    "    {'from': 2, 'to': 3},\n",
    "    {'from': 3, 'to': 4},\n",
    "    {'from': 2, 'to': 5},\n",
    "    {'from': 6, 'to': 2},\n",
    "]\n",
    "\n",
    "graph = {}\n",
    "for node in nodes:\n",
    "    graph[node['id']] = []\n",
    "\n",
    "for edge in edges:\n",
    "    graph[edge['from']].append(edge['to'])\n",
    "\n",
    "\n",
    "graph = {1: [2], 2: [3, 5], 3: [4], 4: [], 5: [], 6: [2]}\n",
    "longest_path = [1, 2, 3, 4]\n",
    "\n",
    "\n",
    "nodes = [\n",
    "    {'id': 1, level: 0},\n",
    "    {'id': 2, level: 1},\n",
    "    {'id': 3, level: 2},\n",
    "    {'id': 4, level: 3},\n",
    "    {'id': 5, level: 2},\n",
    "    {'id': 6, level: 0},\n",
    "]"
   ]
  },
  {
   "cell_type": "code",
   "execution_count": 35,
   "metadata": {},
   "outputs": [
    {
     "name": "stdout",
     "output_type": "stream",
     "text": [
      "2\n"
     ]
    }
   ],
   "source": [
    "# Nodes list\n",
    "nodes = [{'id': 1, 'level': 0}, {'id': 2, 'level': 1}, {'id': 3, 'level': 2}, {'id': 4, 'level': 3}]\n",
    "\n",
    "# Create a dictionary for fast lookups\n",
    "node_levels = {node['id']: node['level'] for node in nodes}\n",
    "\n",
    "# Node IDs to get levels for\n",
    "node_ids = [3, 5]\n",
    "\n",
    "for node_id in node_ids:\n",
    "  level = node_levels.get(node_id, None)\n",
    "  if level is not None:\n",
    "    break\n",
    "    \n",
    "# Get levels\n",
    "# levels = [node_levels.get(node_id, None) for node_id in node_ids]\n",
    "\n",
    "print(level)  # Output: [2, None] (None for node ID 5 since it doesn't exist in the nodes list)\n"
   ]
  },
  {
   "cell_type": "code",
   "execution_count": null,
   "metadata": {},
   "outputs": [],
   "source": [
    "longest_path.index(5)"
   ]
  },
  {
   "cell_type": "code",
   "execution_count": null,
   "metadata": {},
   "outputs": [],
   "source": [
    "node_with_id_2 = next((node for node in nodes if node['id'] == 2), None)\n",
    "print(node_with_id_2)  # Output: {'id': 2, 'level': None}"
   ]
  },
  {
   "cell_type": "code",
   "execution_count": 33,
   "metadata": {},
   "outputs": [],
   "source": [
    "\n",
    "def set_level(id, level):\n",
    "  node = next((node for node in nodes if node['id'] == id), None)\n",
    "  if node:\n",
    "    node['level'] = level\n",
    "# nodes\n",
    "\n",
    "def get_level(id):\n",
    "  node = next((node for node in nodes if node['id'] == id), None)\n",
    "  if node:\n",
    "    return node['level']\n",
    "  return None"
   ]
  },
  {
   "cell_type": "markdown",
   "metadata": {},
   "source": [
    "## Check here"
   ]
  },
  {
   "cell_type": "code",
   "execution_count": 64,
   "metadata": {},
   "outputs": [
    {
     "data": {
      "text/plain": [
       "{1: [4],\n",
       " 2: [3],\n",
       " 3: [18],\n",
       " 4: [18],\n",
       " 5: [6],\n",
       " 6: [7],\n",
       " 7: [8],\n",
       " 8: [9, 12],\n",
       " 9: [23, 10],\n",
       " 10: [11],\n",
       " 11: [],\n",
       " 12: [21, 13],\n",
       " 13: [14, 19],\n",
       " 14: [20, 15],\n",
       " 15: [25, 16],\n",
       " 16: [17],\n",
       " 17: [],\n",
       " 18: [5],\n",
       " 19: [24],\n",
       " 20: [22],\n",
       " 21: [],\n",
       " 22: [],\n",
       " 23: [],\n",
       " 24: [],\n",
       " 25: []}"
      ]
     },
     "execution_count": 64,
     "metadata": {},
     "output_type": "execute_result"
    }
   ],
   "source": [
    "c"
   ]
  },
  {
   "cell_type": "code",
   "execution_count": null,
   "metadata": {},
   "outputs": [],
   "source": [
    "graph = {1: [4], 2: [3], 3: [18], 4: [18], 5: [6], 6: [7], 7: [8], 8: [9, 12], 9: [23, 10], 10: [11], 11: [], 12: [21, 13], 13: [14, 19], 14: [20, 15], 15: [25, 16], 16: [17], 17: [], 18: [5], 19: [24], 20: [22], 21: [], 22: [], 23: [], 24: [], 25: []}\n",
    "longest_path = [1, 4, 18, 5, 6, 7, 8, 12, 13, 14, 15, 16, 17]"
   ]
  },
  {
   "cell_type": "code",
   "execution_count": 65,
   "metadata": {},
   "outputs": [
    {
     "data": {
      "text/plain": [
       "[1, 4, 18, 5, 6, 7, 8, 12, 13, 14, 15, 16, 17]"
      ]
     },
     "execution_count": 65,
     "metadata": {},
     "output_type": "execute_result"
    }
   ],
   "source": [
    "a"
   ]
  },
  {
   "cell_type": "code",
   "execution_count": 66,
   "metadata": {},
   "outputs": [],
   "source": [
    "graph = {1: [2], 2: [3, 5], 3: [4], 4: [], 5: [], 6: [2]}\n",
    "longest_path = [1, 2, 3, 4]"
   ]
  },
  {
   "cell_type": "code",
   "execution_count": null,
   "metadata": {},
   "outputs": [],
   "source": [
    "graph = {1: [2], 2: [3, 5], 3: [4], 4: [], 5: [], 6: [2]}\n",
    "longest_path = [1, 2, 3, 4]\n",
    "\n",
    "nodes = []\n",
    "\n",
    "def set_level(id, level):\n",
    "  node = next((node for node in nodes if node['id'] == id), None)\n",
    "  if node:\n",
    "    node['level'] = level\n",
    "\n",
    "def get_level(id):\n",
    "  node = next((node for node in nodes if node['id'] == id), None)\n",
    "  if node:\n",
    "    return node['level']\n",
    "  return None\n",
    "\n",
    "for node_id in graph.keys():\n",
    "    nodes.append({'id': node_id, 'level': None}) \n",
    "\n",
    "for i in graph.keys():\n",
    "    if i in longest_path:\n",
    "        level = longest_path.index(i)\n",
    "        set_level(i, level)\n",
    "\n"
   ]
  },
  {
   "cell_type": "code",
   "execution_count": 76,
   "metadata": {},
   "outputs": [
    {
     "name": "stdout",
     "output_type": "stream",
     "text": [
      "[{'id': 1, 'level': 0}, {'id': 2, 'level': 0}, {'id': 3, 'level': 1}, {'id': 4, 'level': 1}, {'id': 5, 'level': 3}, {'id': 6, 'level': 4}, {'id': 7, 'level': 5}, {'id': 8, 'level': 6}, {'id': 9, 'level': 7}, {'id': 10, 'level': 8}, {'id': 11, 'level': 9}, {'id': 12, 'level': 7}, {'id': 13, 'level': 8}, {'id': 14, 'level': 9}, {'id': 15, 'level': 10}, {'id': 16, 'level': 11}, {'id': 17, 'level': 12}, {'id': 18, 'level': 2}, {'id': 19, 'level': 9}, {'id': 20, 'level': 10}, {'id': 21, 'level': 8}, {'id': 22, 'level': 11}, {'id': 23, 'level': 8}, {'id': 24, 'level': 10}, {'id': 25, 'level': 11}]\n"
     ]
    }
   ],
   "source": [
    "graph = c\n",
    "\n",
    "nodes = []\n",
    "\n",
    "# Initialize nodes with 'id' and 'level'\n",
    "for node_id in graph.keys():\n",
    "    nodes.append({'id': node_id, 'level': None})\n",
    "\n",
    "# Helper functions to set and get levels\n",
    "def set_level(id, level):\n",
    "    node = next((node for node in nodes if node['id'] == id), None)\n",
    "    if node:\n",
    "        node['level'] = level\n",
    "\n",
    "def get_level(id):\n",
    "    node = next((node for node in nodes if node['id'] == id), None)\n",
    "    if node:\n",
    "        return node['level']\n",
    "    return None\n",
    "\n",
    "# Traverse the graph and set levels\n",
    "def traverse_and_set_levels(node_id, current_level):\n",
    "    set_level(node_id, current_level)\n",
    "    for neighbor in graph[node_id]:\n",
    "        # Only set the level if it's not already set to avoid overwriting\n",
    "        if get_level(neighbor) is None:\n",
    "            traverse_and_set_levels(neighbor, current_level + 1)\n",
    "\n",
    "# Find root nodes (nodes with no incoming edges)\n",
    "all_nodes = set(graph.keys())\n",
    "non_root_nodes = {node for neighbors in graph.values() for node in neighbors}\n",
    "root_nodes = all_nodes - non_root_nodes\n",
    "\n",
    "# Start traversal from all root nodes\n",
    "for root in root_nodes:\n",
    "    traverse_and_set_levels(root, 0)\n",
    "\n",
    "# Print the result\n",
    "print(nodes)\n"
   ]
  },
  {
   "cell_type": "code",
   "execution_count": null,
   "metadata": {},
   "outputs": [
    {
     "name": "stdout",
     "output_type": "stream",
     "text": [
      "[]\n",
      "[2]\n"
     ]
    }
   ],
   "source": [
    "for node in nodes:\n",
    "  if node['level'] is None:\n",
    "    # print(node)\n",
    "    # get_level(id)\n",
    "    if graph[node['id']] is not None:\n",
    "      print(graph[node['id']])"
   ]
  },
  {
   "cell_type": "code",
   "execution_count": null,
   "metadata": {},
   "outputs": [],
   "source": []
  },
  {
   "cell_type": "code",
   "execution_count": 60,
   "metadata": {},
   "outputs": [
    {
     "name": "stdout",
     "output_type": "stream",
     "text": [
      "[{'id': 1, 'level': 0}, {'id': 2, 'level': None}, {'id': 3, 'level': None}, {'id': 4, 'level': 1}, {'id': 5, 'level': 3}, {'id': 6, 'level': 4}, {'id': 7, 'level': 5}, {'id': 8, 'level': 6}, {'id': 9, 'level': 7}, {'id': 10, 'level': None}, {'id': 11, 'level': None}, {'id': 12, 'level': 7}, {'id': 13, 'level': 8}, {'id': 14, 'level': 9}, {'id': 15, 'level': 10}, {'id': 16, 'level': 11}, {'id': 17, 'level': 12}, {'id': 18, 'level': 2}, {'id': 19, 'level': 9}, {'id': 20, 'level': 10}, {'id': 21, 'level': 8}, {'id': 22, 'level': None}, {'id': 23, 'level': None}, {'id': 24, 'level': None}, {'id': 25, 'level': 11}]\n"
     ]
    }
   ],
   "source": [
    "\n",
    "\n",
    "nodes = []\n",
    "\n",
    "for node_id in graph.keys():\n",
    "    nodes.append({'id': node_id, 'level': None}) \n",
    "\n",
    "for i in graph.keys():\n",
    "    if i in longest_path:\n",
    "\n",
    "        level = longest_path.index(i)\n",
    "        set_level(i, level)\n",
    "\n",
    "        # print(i, graph[i], level)\n",
    "\n",
    "        for j in graph[i]:\n",
    "            set_level(j, level+1)\n",
    "\n",
    "print(nodes)\n",
    "for i in graph.keys():\n",
    "    if get_level(i) is None:\n",
    "\n",
    "        # find the lowest level\n",
    "        level = len(longest_path) + 1\n",
    "        for j in graph[i]:\n",
    "            level_target = get_level(j)\n",
    "            if level_target is not None:\n",
    "                if level_target < level:\n",
    "                    level = get_level(j)\n",
    "                    set_level(i, level-1)\n",
    "\n",
    "\n"
   ]
  },
  {
   "cell_type": "code",
   "execution_count": 63,
   "metadata": {},
   "outputs": [
    {
     "data": {
      "text/plain": [
       "[1, 4, 18, 5, 6, 7, 8, 12, 13, 14, 15, 16, 17]"
      ]
     },
     "execution_count": 63,
     "metadata": {},
     "output_type": "execute_result"
    }
   ],
   "source": [
    "longest_path"
   ]
  },
  {
   "cell_type": "code",
   "execution_count": 62,
   "metadata": {},
   "outputs": [
    {
     "data": {
      "text/plain": [
       "{1: [4],\n",
       " 2: [3],\n",
       " 3: [18],\n",
       " 4: [18],\n",
       " 5: [6],\n",
       " 6: [7],\n",
       " 7: [8],\n",
       " 8: [9, 12],\n",
       " 9: [23, 10],\n",
       " 10: [11],\n",
       " 11: [],\n",
       " 12: [21, 13],\n",
       " 13: [14, 19],\n",
       " 14: [20, 15],\n",
       " 15: [25, 16],\n",
       " 16: [17],\n",
       " 17: [],\n",
       " 18: [5],\n",
       " 19: [24],\n",
       " 20: [22],\n",
       " 21: [],\n",
       " 22: [],\n",
       " 23: [],\n",
       " 24: [],\n",
       " 25: []}"
      ]
     },
     "execution_count": 62,
     "metadata": {},
     "output_type": "execute_result"
    }
   ],
   "source": [
    "graph"
   ]
  },
  {
   "cell_type": "code",
   "execution_count": 61,
   "metadata": {},
   "outputs": [
    {
     "name": "stdout",
     "output_type": "stream",
     "text": [
      "[{'id': 1, 'level': 0}, {'id': 2, 'level': None}, {'id': 3, 'level': 1}, {'id': 4, 'level': 1}, {'id': 5, 'level': 3}, {'id': 6, 'level': 4}, {'id': 7, 'level': 5}, {'id': 8, 'level': 6}, {'id': 9, 'level': 7}, {'id': 10, 'level': None}, {'id': 11, 'level': None}, {'id': 12, 'level': 7}, {'id': 13, 'level': 8}, {'id': 14, 'level': 9}, {'id': 15, 'level': 10}, {'id': 16, 'level': 11}, {'id': 17, 'level': 12}, {'id': 18, 'level': 2}, {'id': 19, 'level': 9}, {'id': 20, 'level': 10}, {'id': 21, 'level': 8}, {'id': 22, 'level': None}, {'id': 23, 'level': None}, {'id': 24, 'level': None}, {'id': 25, 'level': 11}]\n"
     ]
    }
   ],
   "source": [
    "print(nodes)"
   ]
  },
  {
   "cell_type": "code",
   "execution_count": null,
   "metadata": {},
   "outputs": [
    {
     "name": "stdout",
     "output_type": "stream",
     "text": [
      "{1: [], 2: [1, 6], 3: [2], 4: [3], 5: [2], 6: []}\n"
     ]
    }
   ],
   "source": [
    "graph = {1: [2], 2: [3, 5], 3: [4], 4: [], 5: [], 6: [2]}\n",
    "\n",
    "# Initialize graph_from with empty lists for each node\n",
    "graph_from = {node_id: [] for node_id in graph.keys()}\n",
    "\n",
    "# Populate graph_from\n",
    "for from_node, to_nodes in graph.items():\n",
    "    for to_node in to_nodes:\n",
    "        graph_from[to_node].append(from_node)\n",
    "\n",
    "\n",
    "for i in graph_from.keys():\n",
    "    for j in graph[i]:\n",
    "        \n",
    "\n",
    "        if get_level(j) is None:\n",
    "\n",
    "            set_level(j, level+1)\n",
    "\n",
    "            \n",
    "            if i in longest_path:\n",
    "\n",
    "                level = longest_path.index(i)\n",
    "                set_level(i, level)\n",
    "\n",
    "                print(i, graph[i], level)\n",
    "\n"
   ]
  },
  {
   "cell_type": "code",
   "execution_count": null,
   "metadata": {},
   "outputs": [
    {
     "data": {
      "text/plain": [
       "{1: [], 2: [], 3: [], 4: [], 5: [], 6: []}"
      ]
     },
     "execution_count": 32,
     "metadata": {},
     "output_type": "execute_result"
    }
   ],
   "source": []
  },
  {
   "cell_type": "code",
   "execution_count": null,
   "metadata": {},
   "outputs": [
    {
     "ename": "AttributeError",
     "evalue": "'dict' object has no attribute 'key'",
     "output_type": "error",
     "traceback": [
      "\u001b[1;31m---------------------------------------------------------------------------\u001b[0m",
      "\u001b[1;31mAttributeError\u001b[0m                            Traceback (most recent call last)",
      "Cell \u001b[1;32mIn[1], line 6\u001b[0m\n\u001b[0;32m      1\u001b[0m graph \u001b[38;5;241m=\u001b[39m {\u001b[38;5;241m1\u001b[39m: [\u001b[38;5;241m2\u001b[39m], \u001b[38;5;241m2\u001b[39m: [\u001b[38;5;241m3\u001b[39m, \u001b[38;5;241m5\u001b[39m], \u001b[38;5;241m3\u001b[39m: [\u001b[38;5;241m4\u001b[39m], \u001b[38;5;241m4\u001b[39m: [], \u001b[38;5;241m5\u001b[39m: [], \u001b[38;5;241m6\u001b[39m: [\u001b[38;5;241m2\u001b[39m]}\n\u001b[0;32m      2\u001b[0m longest_path \u001b[38;5;241m=\u001b[39m [\u001b[38;5;241m1\u001b[39m, \u001b[38;5;241m2\u001b[39m, \u001b[38;5;241m3\u001b[39m, \u001b[38;5;241m4\u001b[39m]\n\u001b[1;32m----> 6\u001b[0m \u001b[43mgraph\u001b[49m\u001b[38;5;241;43m.\u001b[39;49m\u001b[43mkey\u001b[49m()\n",
      "\u001b[1;31mAttributeError\u001b[0m: 'dict' object has no attribute 'key'"
     ]
    }
   ],
   "source": [
    "graph = {1: [2], 2: [3, 5], 3: [4], 4: [], 5: [], 6: [2]}\n",
    "longest_path = [1, 2, 3, 4]\n",
    "\n",
    "\n",
    "\n",
    "for i in graph.key():\n",
    "  print(import pandas as pd\n",
    "  \n",
    "  data = {\n",
    "      'price': [111, 110, 120],\n",
    "  }\n",
    "  \n",
    "  df = pd.DataFrame(data)\n",
    "  \n",
    "  # Creating a date column\n",
    "  df['date'] = pd.date_range(start='2023-10-01', periods=len(df), freq='D')\n",
    "  \n",
    "  # List of positions\n",
    "  positions = [\n",
    "      {\"date\": df['date'][1], \"unit\": 1, \"entry_price\": df['price'][1]},\n",
    "      # {\"date\": df['date'][2], \"unit\": 1, \"entry_price\": df['price'][2]},\n",
    "  ]\n",
    "  \n",
    "  # Initialize \"unit\" and \"entry_price\" columns with None\n",
    "  df['unit'] = None\n",
    "  df['entry_price'] = None\n",
    "  \n",
    "  # Update the DataFrame with positions\n",
    "  for position in positions:\n",
    "      date_match = df['date'] == position['date']\n",
    "      df.loc[date_match, 'unit'] = position['unit']\n",
    "      df.loc[date_match, 'entry_price'] = position['entry_price']\n",
    "  \n",
    "  # Displaying the updated DataFrame\n",
    "  print(df)\n",
    "  )"
   ]
  },
  {
   "cell_type": "code",
   "execution_count": null,
   "metadata": {},
   "outputs": [
    {
     "name": "stdout",
     "output_type": "stream",
     "text": [
      "[]\n",
      "[]\n",
      "[{'id': 1, 'level': 0}, {'id': 2, 'level': 1}, {'id': 3, 'level': 2}, {'id': 4, 'level': 3}, {'id': 5, 'level': None}, {'id': 6, 'level': 0}]\n"
     ]
    }
   ],
   "source": [
    "\n",
    "# Input data\n",
    "graph = {1: [2], 2: [3, 5], 3: [4], 4: [], 5: [], 6: [2]}\n",
    "longest_path = [1, 2, 3, 4]\n",
    "\n",
    "# Initialize nodes with levels\n",
    "nodes = []\n",
    "\n",
    "# Add nodes from the longest path with corresponding levels\n",
    "for level, node in enumerate(longest_path):\n",
    "    nodes.append({'id': node, 'level': level})\n",
    "# print(nodes)\n",
    "# Add remaining nodes that are not in the longest path\n",
    "\n",
    "node_levels = {node['id']: node['level'] for node in nodes}\n",
    "\n",
    "def get_level(node_ids):\n",
    "    level = None\n",
    "    for node_id in node_ids:\n",
    "        level = node_levels.get(node_id, None)\n",
    "        if level is not None:\n",
    "            break\n",
    "    return level\n",
    "\n",
    "for node in graph.keys():\n",
    "    # get level of target node, if one have\n",
    "    level_target_node = get_level(graph[node])\n",
    "    if level_target_node is not None:\n",
    "        level = level_target_node - 1\n",
    "    else:\n",
    "        print(graph[node])\n",
    "        level = None\n",
    "\n",
    "    if node not in longest_path:\n",
    "        # it should level - 1, right?\n",
    "        nodes.append({'id': node, 'level': level})\n",
    "\n",
    "# Output nodes\n",
    "print(nodes)\n"
   ]
  },
  {
   "cell_type": "code",
   "execution_count": null,
   "metadata": {},
   "outputs": [
    {
     "name": "stdout",
     "output_type": "stream",
     "text": [
      "[{'id': 1, 'level': 0}, {'id': 2, 'level': 1}, {'id': 3, 'level': 2}, {'id': 4, 'level': 3}, {'id': 5, 'level': 2}, {'id': 6, 'level': 0}]\n"
     ]
    }
   ],
   "source": [
    "# Input data\n",
    "graph = {1: [2], 2: [3, 5], 3: [4], 4: [], 5: [], 6: [2]}\n",
    "longest_path = [1, 2, 3, 4]\n",
    "\n",
    "\n"
   ]
  },
  {
   "cell_type": "code",
   "execution_count": 28,
   "metadata": {},
   "outputs": [],
   "source": [
    "graph = c\n",
    "longest_path = [1, 4, 18, 5, 6, 7, 8, 12, 13, 14, 15, 16, 17]"
   ]
  },
  {
   "cell_type": "code",
   "execution_count": 29,
   "metadata": {},
   "outputs": [
    {
     "data": {
      "text/plain": [
       "{1: [4],\n",
       " 2: [3],\n",
       " 3: [18],\n",
       " 4: [18],\n",
       " 5: [6],\n",
       " 6: [7],\n",
       " 7: [8],\n",
       " 8: [9, 12],\n",
       " 9: [23, 10],\n",
       " 10: [11],\n",
       " 11: [],\n",
       " 12: [25, 13],\n",
       " 13: [14, 19],\n",
       " 14: [20, 15],\n",
       " 15: [24, 16],\n",
       " 16: [17],\n",
       " 17: [],\n",
       " 18: [5],\n",
       " 19: [22],\n",
       " 20: [21],\n",
       " 21: [],\n",
       " 22: [],\n",
       " 23: [],\n",
       " 24: [],\n",
       " 25: []}"
      ]
     },
     "execution_count": 29,
     "metadata": {},
     "output_type": "execute_result"
    }
   ],
   "source": [
    "graph"
   ]
  },
  {
   "cell_type": "code",
   "execution_count": 30,
   "metadata": {},
   "outputs": [
    {
     "name": "stdout",
     "output_type": "stream",
     "text": [
      "[{'id': 1, 'level': 0}, {'id': 4, 'level': 1}, {'id': 18, 'level': 2}, {'id': 5, 'level': 3}, {'id': 6, 'level': 4}, {'id': 7, 'level': 5}, {'id': 8, 'level': 6}, {'id': 12, 'level': 7}, {'id': 13, 'level': 8}, {'id': 14, 'level': 9}, {'id': 15, 'level': 10}, {'id': 16, 'level': 11}, {'id': 17, 'level': 12}, {'id': 2, 'level': 0}, {'id': 3, 'level': 0}, {'id': 9, 'level': 7}, {'id': 10, 'level': 0}, {'id': 11, 'level': 0}, {'id': 19, 'level': 9}, {'id': 20, 'level': 10}, {'id': 21, 'level': 0}, {'id': 22, 'level': 0}, {'id': 23, 'level': 0}, {'id': 24, 'level': 11}, {'id': 25, 'level': 8}]\n"
     ]
    }
   ],
   "source": [
    "# Initialize nodes with levels\n",
    "nodes = []\n",
    "\n",
    "# Add nodes from the longest path with corresponding levels\n",
    "for level, node in enumerate(longest_path):\n",
    "    nodes.append({'id': node, 'level': level})\n",
    "\n",
    "# Add remaining nodes that are not in the longest path\n",
    "for node in graph.keys():\n",
    "    # Get level of the node from the longest path if it exists\n",
    "    level = -1\n",
    "    for parent in graph.keys():\n",
    "        if node in graph[parent] and parent in longest_path:\n",
    "            # The level is based on its parent's level\n",
    "            parent_level = next((n['level'] for n in nodes if n['id'] == parent), 0)\n",
    "            level = parent_level + 1\n",
    "\n",
    "    # If the node is not in the longest_path, set its calculated level or default to 0\n",
    "    if node not in longest_path:\n",
    "        nodes.append({'id': node, 'level': level if level >= 0 else 0})\n",
    "\n",
    "\n",
    "# Output nodes\n",
    "print(nodes)"
   ]
  },
  {
   "cell_type": "code",
   "execution_count": 20,
   "metadata": {},
   "outputs": [
    {
     "name": "stdout",
     "output_type": "stream",
     "text": [
      "[{'id': 1, 'level': 0}, {'id': 2, 'level': 0}, {'id': 3, 'level': 2}, {'id': 4, 'level': 1}, {'id': 5, 'level': 3}, {'id': 6, 'level': 4}, {'id': 7, 'level': 5}, {'id': 8, 'level': 6}, {'id': 9, 'level': 6}, {'id': 10, 'level': 0}, {'id': 11, 'level': 2}, {'id': 12, 'level': 7}, {'id': 13, 'level': 8}, {'id': 14, 'level': 9}, {'id': 15, 'level': 10}, {'id': 16, 'level': 11}, {'id': 17, 'level': 12}, {'id': 18, 'level': 2}, {'id': 19, 'level': 8}, {'id': 20, 'level': 9}, {'id': 21, 'level': 0}, {'id': 22, 'level': 0}, {'id': 23, 'level': 0}, {'id': 24, 'level': 10}, {'id': 25, 'level': 7}]\n"
     ]
    }
   ],
   "source": [
    "\n",
    "\n",
    "# Step 1: Create a mapping of node IDs to their levels\n",
    "node_levels = {node_id: i for i, node_id in enumerate(longest_path)}\n",
    "\n",
    "# Step 2: Assign levels to the nodes\n",
    "for node in nodes:\n",
    "    node_id = node['id']\n",
    "    if node_id in node_levels:\n",
    "        node['level'] = node_levels[node_id]\n",
    "    else:\n",
    "        # Find all edges pointing to or from this node\n",
    "        connected_edges = [edge for edge in edges if edge['from'] == node_id or edge['to'] == node_id]\n",
    "        # Determine the level based on connections to nodes in the longest_path\n",
    "        connected_levels = [\n",
    "            node_levels[edge['from']] if edge['from'] in node_levels else node_levels[edge['to']]\n",
    "            for edge in connected_edges if edge['from'] in node_levels or edge['to'] in node_levels\n",
    "        ]\n",
    "        node['level'] = max(connected_levels) if connected_levels else 0  # Default level if no connections\n",
    "\n",
    "# Result\n",
    "print(nodes)\n"
   ]
  },
  {
   "cell_type": "code",
   "execution_count": 21,
   "metadata": {},
   "outputs": [
    {
     "ename": "RecursionError",
     "evalue": "maximum recursion depth exceeded",
     "output_type": "error",
     "traceback": [
      "\u001b[1;31m---------------------------------------------------------------------------\u001b[0m",
      "\u001b[1;31mRecursionError\u001b[0m                            Traceback (most recent call last)",
      "Cell \u001b[1;32mIn[21], line 2\u001b[0m\n\u001b[0;32m      1\u001b[0m start_node \u001b[38;5;241m=\u001b[39m \u001b[38;5;241m1\u001b[39m\n\u001b[1;32m----> 2\u001b[0m longest_chain \u001b[38;5;241m=\u001b[39m \u001b[43mfind_longest_chain\u001b[49m\u001b[43m(\u001b[49m\u001b[43mnodes\u001b[49m\u001b[43m,\u001b[49m\u001b[43m \u001b[49m\u001b[43medges\u001b[49m\u001b[43m)\u001b[49m\n\u001b[0;32m      3\u001b[0m \u001b[38;5;28mprint\u001b[39m(\u001b[38;5;124m\"\u001b[39m\u001b[38;5;124mLongest Chain from Node\u001b[39m\u001b[38;5;124m\"\u001b[39m, start_node, \u001b[38;5;124m\"\u001b[39m\u001b[38;5;124m:\u001b[39m\u001b[38;5;124m\"\u001b[39m, longest_chain)\n",
      "Cell \u001b[1;32mIn[16], line 31\u001b[0m, in \u001b[0;36mfind_longest_chain\u001b[1;34m(nodes, edges)\u001b[0m\n\u001b[0;32m     29\u001b[0m \u001b[38;5;66;03m# Find the longest path starting from each node\u001b[39;00m\n\u001b[0;32m     30\u001b[0m \u001b[38;5;28;01mfor\u001b[39;00m node \u001b[38;5;129;01min\u001b[39;00m graph:\n\u001b[1;32m---> 31\u001b[0m     length, chain \u001b[38;5;241m=\u001b[39m \u001b[43mdfs\u001b[49m\u001b[43m(\u001b[49m\u001b[43mnode\u001b[49m\u001b[43m,\u001b[49m\u001b[43m \u001b[49m\u001b[43m[\u001b[49m\u001b[43mnode\u001b[49m\u001b[43m]\u001b[49m\u001b[43m)\u001b[49m\n\u001b[0;32m     32\u001b[0m     \u001b[38;5;28;01mif\u001b[39;00m \u001b[38;5;28mlen\u001b[39m(chain) \u001b[38;5;241m>\u001b[39m \u001b[38;5;28mlen\u001b[39m(longest_chain):\n\u001b[0;32m     33\u001b[0m         longest_chain \u001b[38;5;241m=\u001b[39m chain\n",
      "Cell \u001b[1;32mIn[16], line 20\u001b[0m, in \u001b[0;36mfind_longest_chain.<locals>.dfs\u001b[1;34m(node, path)\u001b[0m\n\u001b[0;32m     17\u001b[0m current_chain \u001b[38;5;241m=\u001b[39m []\n\u001b[0;32m     19\u001b[0m \u001b[38;5;28;01mfor\u001b[39;00m neighbor \u001b[38;5;129;01min\u001b[39;00m graph[node]:\n\u001b[1;32m---> 20\u001b[0m     length, chain \u001b[38;5;241m=\u001b[39m \u001b[43mdfs\u001b[49m\u001b[43m(\u001b[49m\u001b[43mneighbor\u001b[49m\u001b[43m,\u001b[49m\u001b[43m \u001b[49m\u001b[43mpath\u001b[49m\u001b[43m \u001b[49m\u001b[38;5;241;43m+\u001b[39;49m\u001b[43m \u001b[49m\u001b[43m[\u001b[49m\u001b[43mneighbor\u001b[49m\u001b[43m]\u001b[49m\u001b[43m)\u001b[49m\n\u001b[0;32m     21\u001b[0m     \u001b[38;5;28;01mif\u001b[39;00m length \u001b[38;5;241m>\u001b[39m max_length:\n\u001b[0;32m     22\u001b[0m         max_length \u001b[38;5;241m=\u001b[39m length\n",
      "Cell \u001b[1;32mIn[16], line 20\u001b[0m, in \u001b[0;36mfind_longest_chain.<locals>.dfs\u001b[1;34m(node, path)\u001b[0m\n\u001b[0;32m     17\u001b[0m current_chain \u001b[38;5;241m=\u001b[39m []\n\u001b[0;32m     19\u001b[0m \u001b[38;5;28;01mfor\u001b[39;00m neighbor \u001b[38;5;129;01min\u001b[39;00m graph[node]:\n\u001b[1;32m---> 20\u001b[0m     length, chain \u001b[38;5;241m=\u001b[39m \u001b[43mdfs\u001b[49m\u001b[43m(\u001b[49m\u001b[43mneighbor\u001b[49m\u001b[43m,\u001b[49m\u001b[43m \u001b[49m\u001b[43mpath\u001b[49m\u001b[43m \u001b[49m\u001b[38;5;241;43m+\u001b[39;49m\u001b[43m \u001b[49m\u001b[43m[\u001b[49m\u001b[43mneighbor\u001b[49m\u001b[43m]\u001b[49m\u001b[43m)\u001b[49m\n\u001b[0;32m     21\u001b[0m     \u001b[38;5;28;01mif\u001b[39;00m length \u001b[38;5;241m>\u001b[39m max_length:\n\u001b[0;32m     22\u001b[0m         max_length \u001b[38;5;241m=\u001b[39m length\n",
      "    \u001b[1;31m[... skipping similar frames: find_longest_chain.<locals>.dfs at line 20 (2970 times)]\u001b[0m\n",
      "Cell \u001b[1;32mIn[16], line 20\u001b[0m, in \u001b[0;36mfind_longest_chain.<locals>.dfs\u001b[1;34m(node, path)\u001b[0m\n\u001b[0;32m     17\u001b[0m current_chain \u001b[38;5;241m=\u001b[39m []\n\u001b[0;32m     19\u001b[0m \u001b[38;5;28;01mfor\u001b[39;00m neighbor \u001b[38;5;129;01min\u001b[39;00m graph[node]:\n\u001b[1;32m---> 20\u001b[0m     length, chain \u001b[38;5;241m=\u001b[39m \u001b[43mdfs\u001b[49m\u001b[43m(\u001b[49m\u001b[43mneighbor\u001b[49m\u001b[43m,\u001b[49m\u001b[43m \u001b[49m\u001b[43mpath\u001b[49m\u001b[43m \u001b[49m\u001b[38;5;241;43m+\u001b[39;49m\u001b[43m \u001b[49m\u001b[43m[\u001b[49m\u001b[43mneighbor\u001b[49m\u001b[43m]\u001b[49m\u001b[43m)\u001b[49m\n\u001b[0;32m     21\u001b[0m     \u001b[38;5;28;01mif\u001b[39;00m length \u001b[38;5;241m>\u001b[39m max_length:\n\u001b[0;32m     22\u001b[0m         max_length \u001b[38;5;241m=\u001b[39m length\n",
      "\u001b[1;31mRecursionError\u001b[0m: maximum recursion depth exceeded"
     ]
    }
   ],
   "source": [
    "start_node = 1\n",
    "longest_chain = find_longest_chain(nodes, edges)\n",
    "print(\"Longest Chain from Node\", start_node, \":\", longest_chain)\n"
   ]
  },
  {
   "cell_type": "code",
   "execution_count": null,
   "metadata": {},
   "outputs": [
    {
     "data": {
      "text/plain": [
       "[{'id': 1, 'properties': {}},\n",
       " {'id': 2, 'properties': {}},\n",
       " {'id': 3, 'properties': {}},\n",
       " {'id': 4, 'properties': {}}]"
      ]
     },
     "execution_count": 19,
     "metadata": {},
     "output_type": "execute_result"
    }
   ],
   "source": [
    "nodes = [\n",
    "  {'id': 1},\n",
    "  {'id': 2},\n",
    "  {'id': 3},\n",
    "  {'id': 4},\n",
    "  {'id': 5},\n",
    "]\n",
    "edges = [\n",
    "  {'from': 1 'to': 2},\n",
    "  {'from': 2 'to': 3},\n",
    "  {'from': 3 'to': 4},\n",
    "  {'from': 4 'to': 2},\n",
    "  {'from': 4 'to': 5},\n",
    "]"
   ]
  },
  {
   "cell_type": "code",
   "execution_count": null,
   "metadata": {},
   "outputs": [
    {
     "name": "stdout",
     "output_type": "stream",
     "text": [
      "Longest Chain from Node 3 : [3, 4]\n"
     ]
    }
   ],
   "source": [
    "def find_longest_chain_from_start(nodes, edges, start_node):\n",
    "    # Build an adjacency list from the edges\n",
    "    graph = {node[\"id\"]: [] for node in nodes}\n",
    "    for edge in edges:\n",
    "        graph[edge[\"from\"]].append(edge[\"to\"])\n",
    "    \n",
    "    # Memoization table to store the longest path from each node\n",
    "    memo = {}\n",
    "\n",
    "    def dfs(node):\n",
    "        \"\"\"Perform DFS and find the longest chain starting from the node\"\"\"\n",
    "        if node in memo:\n",
    "            return memo[node]\n",
    "        \n",
    "        max_length = 0\n",
    "        longest_chain = []\n",
    "        \n",
    "        for neighbor in graph[node]:\n",
    "            length, chain = dfs(neighbor)\n",
    "            if length > max_length:\n",
    "                max_length = length\n",
    "                longest_chain = chain\n",
    "        \n",
    "        # Include the current node in the chain\n",
    "        memo[node] = (max_length + 1, [node] + longest_chain)\n",
    "        return memo[node]\n",
    "\n",
    "    # Perform DFS starting from the specified node\n",
    "    if start_node not in graph:\n",
    "        return []  # If the starting node is not in the graph\n",
    "    \n",
    "    _, longest_chain = dfs(start_node)\n",
    "    return longest_chain\n",
    "\n",
    "\n",
    "# Example Usage:\n",
    "nodes = [\n",
    "    {\"id\": 1, \"properties\": {}},\n",
    "    {\"id\": 2, \"properties\": {}},\n",
    "    {\"id\": 3, \"properties\": {}},\n",
    "    {\"id\": 4, \"properties\": {}},\n",
    "]\n",
    "edges = [\n",
    "    {\"id\": 1, \"from\": 1, \"to\": 2},\n",
    "    {\"id\": 2, \"from\": 2, \"to\": 3},\n",
    "    {\"id\": 3, \"from\": 3, \"to\": 4},\n",
    "    {\"id\": 4, \"from\": 1, \"to\": 3},\n",
    "]\n",
    "\n",
    "start_node = 3\n",
    "longest_chain = find_longest_chain_from_start(nodes, edges, start_node)\n",
    "print(\"Longest Chain from Node\", start_node, \":\", longest_chain)\n"
   ]
  },
  {
   "cell_type": "code",
   "execution_count": 16,
   "metadata": {},
   "outputs": [
    {
     "name": "stdout",
     "output_type": "stream",
     "text": [
      "Longest Chain: [1, 2, 3, 4]\n"
     ]
    }
   ],
   "source": [
    "def find_longest_chain(nodes, edges):\n",
    "    # Build an adjacency list from the edges\n",
    "    graph = {node[\"id\"]: [] for node in nodes}\n",
    "    for edge in edges:\n",
    "        graph[edge[\"from\"]].append(edge[\"to\"])\n",
    "    \n",
    "    # Memoization table to store the longest path from each node\n",
    "    memo = {}\n",
    "    longest_chain = []\n",
    "\n",
    "    def dfs(node, path):\n",
    "        \"\"\"Perform DFS and track the path\"\"\"\n",
    "        if node in memo:\n",
    "            return memo[node]\n",
    "        \n",
    "        max_length = 0\n",
    "        current_chain = []\n",
    "        \n",
    "        for neighbor in graph[node]:\n",
    "            length, chain = dfs(neighbor, path + [neighbor])\n",
    "            if length > max_length:\n",
    "                max_length = length\n",
    "                current_chain = chain\n",
    "        \n",
    "        # Include the current node in the chain\n",
    "        memo[node] = (max_length + 1, [node] + current_chain)\n",
    "        return memo[node]\n",
    "\n",
    "    # Find the longest path starting from each node\n",
    "    for node in graph:\n",
    "        length, chain = dfs(node, [node])\n",
    "        if len(chain) > len(longest_chain):\n",
    "            longest_chain = chain\n",
    "\n",
    "    return longest_chain\n",
    "\n",
    "\n",
    "# Example Usage:\n",
    "nodes = [\n",
    "    {\"id\": 1, \"properties\": {}},\n",
    "    {\"id\": 2, \"properties\": {}},\n",
    "    {\"id\": 3, \"properties\": {}},\n",
    "    {\"id\": 4, \"properties\": {}},\n",
    "]\n",
    "edges = [\n",
    "    {\"id\": 1, \"from\": 1, \"to\": 2},\n",
    "    {\"id\": 2, \"from\": 2, \"to\": 3},\n",
    "    {\"id\": 3, \"from\": 3, \"to\": 4},\n",
    "    {\"id\": 4, \"from\": 1, \"to\": 3},\n",
    "]\n",
    "\n",
    "longest_chain = find_longest_chain(nodes, edges)\n",
    "print(\"Longest Chain:\", longest_chain)\n"
   ]
  }
 ],
 "metadata": {
  "kernelspec": {
   "display_name": "base",
   "language": "python",
   "name": "python3"
  },
  "language_info": {
   "codemirror_mode": {
    "name": "ipython",
    "version": 3
   },
   "file_extension": ".py",
   "mimetype": "text/x-python",
   "name": "python",
   "nbconvert_exporter": "python",
   "pygments_lexer": "ipython3",
   "version": "3.11.5"
  }
 },
 "nbformat": 4,
 "nbformat_minor": 2
}

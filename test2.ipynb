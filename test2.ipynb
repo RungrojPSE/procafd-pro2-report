{
 "cells": [
  {
   "cell_type": "code",
   "execution_count": null,
   "metadata": {},
   "outputs": [
    {
     "data": {
      "text/plain": [
       "[{'id': 1, 'label': 'IC-HI', 'properties': {'kind': 'START'}},\n",
       " {'id': 2, 'label': 'IAB-HI', 'properties': {'kind': 'START'}},\n",
       " {'id': 3, 'label': 'HX1-IC', 'properties': {'kind': 'HX'}},\n",
       " {'id': 4, 'label': 'HX0-IAB', 'properties': {'kind': 'HX'}},\n",
       " {'id': 5, 'label': 'M1-R1', 'properties': {'kind': 'MIXER'}},\n",
       " {'id': 6, 'label': 'FRT', 'properties': {'kind': 'END'}}]"
      ]
     },
     "execution_count": 4,
     "metadata": {},
     "output_type": "execute_result"
    }
   ],
   "source": [
    "# Input data\n",
    "data = [\n",
    "    {'unit': 'START', 'uid': 'IC-HI', 'name': 'Start point', 'inlets': [], 'outlets': ['IC-HI']},\n",
    "    {'unit': 'START', 'uid': 'IAB-HI', 'name': 'Start point', 'inlets': [], 'outlets': ['IAB-HI']},\n",
    "    {'unit': 'HX', 'uid': 'HX1-IC', 'name': 'Heater for Toluene feed stream', 'inlets': ['IC-HI'], 'outlets': ['IC']},\n",
    "    {'unit': 'HX', 'uid': 'HX0-IAB', 'name': 'Heater for Hydrogen feed stream', 'inlets': ['IAB-HI'], 'outlets': ['IAB']},\n",
    "    {'unit': 'MIXER', 'uid': 'M1-R1', 'name': 'Mixer before reactor', 'inlets': ['IC', 'IAB'], 'outlets': ['FRT']},\n",
    "    {'unit': 'END', 'uid': 'FRT', 'name': 'End point', 'inlets': ['FRT'], 'outlets': []}\n",
    "]\n",
    "\n",
    "def create_node(node_id, label, kind):\n",
    "    return {\n",
    "        \"id\": node_id,\n",
    "        \"label\": label,\n",
    "        \"properties\": {\n",
    "            \"kind\": kind\n",
    "        }\n",
    "    }\n",
    "\n",
    "def create_edge(source, target):\n",
    "    return {\n",
    "        \"from\": source,\n",
    "        \"to\": target\n",
    "    }\n",
    "\n",
    "def get_id(nodeData, label):\n",
    "    for item in nodeData:\n",
    "        if item['label'] == label:\n",
    "            return item['id']\n",
    "    return None  # Return None if the label is not found\n",
    "\n",
    "nodeId = 0\n",
    "nodes = []\n",
    "for obj in data:\n",
    "    nodeId = nodeId + 1\n",
    "    get_id()\n",
    "    # nodes.append(create_node(nodeId, obj['uid'], obj['unit']))\n",
    "\n",
    "\n",
    "nodes\n",
    "\n",
    "\n",
    "# edges = []\n",
    "# for obj in data:\n",
    "#     source = get id from nodes using obj['uid']\n",
    "#     for stream in obj['outlets']:\n",
    "#         target get id from nodes using stream\n",
    "#         edges.append(source, target)\n"
   ]
  },
  {
   "cell_type": "code",
   "execution_count": 2,
   "metadata": {},
   "outputs": [
    {
     "name": "stdout",
     "output_type": "stream",
     "text": [
      "[{'from': 1, 'to': 3}, {'from': 2, 'to': 4}, {'from': 3, 'to': 5}, {'from': 4, 'to': 5}, {'from': 5, 'to': 6}]\n"
     ]
    }
   ],
   "source": [
    "\n",
    "\n",
    "nodes = [\n",
    "    {'id': 1, 'inlets': [], 'outlets': ['IC-HI']},\n",
    "    {'id': 2, 'inlets': [], 'outlets': ['IAB-HI']},\n",
    "    {'id': 3, 'inlets': ['IC-HI'], 'outlets': ['IC']},\n",
    "    {'id': 4, 'inlets': ['IAB-HI'], 'outlets': ['IAB']},\n",
    "    {'id': 5, 'inlets': ['IC', 'IAB'], 'outlets': ['FRT']},\n",
    "    {'id': 6, 'inlets': ['FRT'], 'outlets': []}\n",
    "]\n",
    "\n",
    "edges = []\n",
    "\n",
    "# Create edges\n",
    "for node in nodes:\n",
    "    for outlet in node['outlets']:\n",
    "        for target_node in nodes:\n",
    "            if outlet in target_node['inlets']:\n",
    "                edges.append({'from': node['id'], 'to': target_node['id']})\n",
    "\n",
    "print(edges)\n"
   ]
  },
  {
   "cell_type": "code",
   "execution_count": null,
   "metadata": {},
   "outputs": [
    {
     "name": "stdout",
     "output_type": "stream",
     "text": [
      "The ID for label 'HX1-IC' is: 3\n"
     ]
    }
   ],
   "source": [
    "def getId(data, label):\n",
    "    for item in data:\n",
    "        if item['label'] == label:\n",
    "            return item['id']\n",
    "    return None  # Return None if the label is not found\n",
    "\n",
    "# Example usage\n",
    "label_to_find = 'HX1-IC'\n",
    "result = get_id_by_label(nodes, label_to_find)\n",
    "print(f\"The ID for label '{label_to_find}' is: {result}\")"
   ]
  },
  {
   "cell_type": "code",
   "execution_count": 16,
   "metadata": {},
   "outputs": [
    {
     "name": "stdout",
     "output_type": "stream",
     "text": [
      "Nodes: [{'id': 1, 'label': 'IC-HI', 'properties': {'kind': 'START'}}, {'id': 2, 'label': 'IAB-HI', 'properties': {'kind': 'START'}}, {'id': 3, 'label': 'HX1-IC', 'properties': {'kind': 'HX'}}, {'id': 4, 'label': 'HX0-IAB', 'properties': {'kind': 'HX'}}, {'id': 5, 'label': 'M1-R1', 'properties': {'kind': 'MIXER'}}, {'id': 6, 'label': 'FRT', 'properties': {'kind': 'END'}}]\n",
      "Edges: [{'from': 1, 'to': 1}, {'from': 2, 'to': 2}, {'from': 5, 'to': 6}]\n"
     ]
    }
   ],
   "source": [
    "# Create nodes\n",
    "node_id = 0\n",
    "nodes = []\n",
    "uid_to_node_id = {}\n",
    "\n",
    "for obj in data:\n",
    "    node_id += 1\n",
    "    node = create_node(node_id, obj['uid'], obj['unit'])\n",
    "    nodes.append(node)\n",
    "    uid_to_node_id[obj['uid']] = node_id  # Map uid to node_id\n",
    "\n",
    "# Create edges\n",
    "edges = []\n",
    "\n",
    "for obj in data:\n",
    "    source_id = uid_to_node_id.get(obj['uid'])\n",
    "    for outlet in obj['outlets']:\n",
    "        target_id = uid_to_node_id.get(outlet)\n",
    "        if target_id:\n",
    "            edges.append(create_edge(source_id, target_id))\n",
    "\n",
    "print(\"Nodes:\", nodes)\n",
    "print(\"Edges:\", edges)\n"
   ]
  },
  {
   "cell_type": "code",
   "execution_count": null,
   "metadata": {},
   "outputs": [],
   "source": [
    "  \"edges\": [\n",
    "    {\n",
    "      \"from\": 1,\n",
    "      \"to\": 3,\n",
    "    },\n",
    "    {\n",
    "      \"from\": 2,\n",
    "      \"to\": 4,\n",
    "    },\n",
    "    {\n",
    "      \"from\": 3,\n",
    "      \"to\": 5,\n",
    "    },\n",
    "    {\n",
    "      \"from\": 4,\n",
    "      \"to\": 5,\n",
    "    },\n",
    "        {\n",
    "      \"from\": 5,\n",
    "      \"to\": 6,\n",
    "    },\n",
    "  ]"
   ]
  },
  {
   "cell_type": "code",
   "execution_count": 14,
   "metadata": {},
   "outputs": [
    {
     "name": "stdout",
     "output_type": "stream",
     "text": [
      "Nodes: [{'id': 1, 'label': 'IC-HI', 'properties': {'kind': 'START'}}, {'id': 2, 'label': 'IAB-HI', 'properties': {'kind': 'START'}}, {'id': 3, 'label': 'HX1-IC', 'properties': {'kind': 'HX'}}, {'id': 4, 'label': 'HX0-IAB', 'properties': {'kind': 'HX'}}, {'id': 5, 'label': 'M1-R1', 'properties': {'kind': 'MIXER'}}, {'id': 6, 'label': 'FRT', 'properties': {'kind': 'END'}}]\n",
      "Edges: [{'from': 1, 'to': 1}, {'from': 2, 'to': 2}, {'from': 5, 'to': 6}]\n"
     ]
    }
   ],
   "source": [
    "def create_edge(source, target):\n",
    "    return {\n",
    "        \"from\": source,\n",
    "        \"to\": target\n",
    "    }\n",
    "\n",
    "# Step 1: Create nodes with unique IDs\n",
    "nodeId = 0\n",
    "nodes = []\n",
    "node_map = {}  # Maps uid to nodeId for quick lookup\n",
    "\n",
    "for obj in data:\n",
    "    nodeId += 1\n",
    "    nodes.append(create_node(nodeId, obj['uid'], obj['unit']))\n",
    "    node_map[obj['uid']] = nodeId\n",
    "\n",
    "# Step 2: Create edges based on inlets and outlets\n",
    "edges = []\n",
    "for obj in data:\n",
    "    source_id = node_map.get(obj['uid'])\n",
    "    if source_id:\n",
    "        for outlet in obj['outlets']:\n",
    "            target_id = node_map.get(outlet)\n",
    "            if target_id:\n",
    "                edges.append(create_edge(source_id, target_id))\n",
    "\n",
    "# Output nodes and edges\n",
    "print(\"Nodes:\", nodes)\n",
    "print(\"Edges:\", edges)\n"
   ]
  },
  {
   "cell_type": "code",
   "execution_count": 92,
   "metadata": {},
   "outputs": [
    {
     "name": "stdout",
     "output_type": "stream",
     "text": [
      "['S1-RC']\n"
     ]
    }
   ],
   "source": [
    "import re\n",
    "\n",
    "block = \"\"\"\n",
    "      FEED  M=S1-RC1, M=RC-PU2, M=RC-P13\n",
    "      PRODUCT  M=S1-RC, V=RC-PU, W=RC-P1\n",
    "\"\"\"\n",
    "\n",
    "# Updated pattern to match all M= values under PRODUCT\n",
    "product_pattern = r\"\\bPRODUCT\\s+(?:M=([\\w\\-]+),?\\s*)+\"\n",
    "\n",
    "# Use findall to capture all matches\n",
    "matches = re.findall(r\"M=([\\w\\-]+)\", block.split(\"PRODUCT\")[1])\n",
    "print(matches)  # Output: ['S1-RC', 'RC-PU', 'RC-P1']\n"
   ]
  },
  {
   "cell_type": "code",
   "execution_count": null,
   "metadata": {},
   "outputs": [
    {
     "name": "stdout",
     "output_type": "stream",
     "text": [
      "['M=S1-RC']\n"
     ]
    }
   ],
   "source": [
    "import re\n",
    "\n",
    "block = \"\"\"\n",
    "      FEED  M=S1-RC1, M=RC-PU2, M=RC-P13\n",
    "      PRODUCT  M=S1-RC, V=RC-PU, W=RC-P1\n",
    "\"\"\"\n",
    "\n",
    "# Pattern to match key-value pairs under PRODUCT\n",
    "product_pattern = r\"\\bPRODUCT\\s+((?:\\w+=\\S+,?\\s*)+)\"\n",
    "\n",
    "# Extract the entire line of key-value pairs after PRODUCT\n",
    "match = re.search(product_pattern, block)\n",
    "if match:\n",
    "    product_line = match.group(1)\n",
    "    # Extract individual key-value pairs\n",
    "    pairs = re.findall(r\"\\w+=\\S+\", product_line)\n",
    "    print(pairs)  # Output: ['M=S1-RC', 'V=RC-PU', 'W=RC-P1']\n"
   ]
  },
  {
   "cell_type": "code",
   "execution_count": null,
   "metadata": {},
   "outputs": [
    {
     "name": "stdout",
     "output_type": "stream",
     "text": [
      "S1-RC\n"
     ]
    }
   ],
   "source": [
    "block = \"\"\"\n",
    "      PRODUCT  M=S1-RC, M=RC-PU, M=RC-P1\n",
    "\"\"\"\n",
    "\n",
    "product_pattern1 = r\"\\bPRODUCT\\s+M=([\\w\\-]+)\"\n",
    "\n",
    "match = re.search(product_pattern1, block)\n",
    "if match:\n",
    "      print(match.group(1).strip())"
   ]
  },
  {
   "cell_type": "code",
   "execution_count": null,
   "metadata": {},
   "outputs": [
    {
     "data": {
      "text/plain": [
       "{'id': None,\n",
       " 'label': 'R1',\n",
       " 'properties': {'kind': 'CONREACTOR',\n",
       "  'in': ['FRT'],\n",
       "  'out': ['INTER1'],\n",
       "  'description': 'Reactor 1'}}"
      ]
     },
     "execution_count": 39,
     "metadata": {},
     "output_type": "execute_result"
    }
   ],
   "source": [
    "import re\n",
    "\n",
    "block = \"\"\"\n",
    "  CONREACTOR UID=R1, NAME=Reactor 1\n",
    "      FEED FRT\n",
    "      PRODUCT  M=INTER1\n",
    "      OPERATION ISOTHERMAL\n",
    "      RXCALCULATION MODEL=STOIC\n",
    "      RXSTOIC RXSET=1\n",
    "      REACTION 1\n",
    "      BASE COMPONENT=3\n",
    "      CONVERSION 0.75\n",
    "\"\"\"\n",
    "\n",
    "\n",
    "\n",
    "node"
   ]
  },
  {
   "cell_type": "code",
   "execution_count": 32,
   "metadata": {},
   "outputs": [
    {
     "data": {
      "text/plain": [
       "'\\n  CONREACTOR UID=R1, NAME=Reactor 1\\n      FEED FRT\\n      PRODUCT  M=INTER1\\n      OPERATION ISOTHERMAL\\n      RXCALCULATION MODEL=STOIC\\n      RXSTOIC RXSET=1\\n      REACTION 1\\n      BASE COMPONENT=3\\n      CONVERSION 0.75\\n'"
      ]
     },
     "execution_count": 32,
     "metadata": {},
     "output_type": "execute_result"
    }
   ],
   "source": [
    "block"
   ]
  },
  {
   "cell_type": "code",
   "execution_count": 5,
   "metadata": {},
   "outputs": [
    {
     "data": {
      "text/plain": [
       "{'id': None,\n",
       " 'label': 'F1-ECD-AB',\n",
       " 'properties': {'kind': 'FLASH',\n",
       "  'in': ['ABCDE'],\n",
       "  'out': [],\n",
       "  'description': 'Flash Drum'}}"
      ]
     },
     "execution_count": 5,
     "metadata": {},
     "output_type": "execute_result"
    }
   ],
   "source": [
    "import re\n",
    "from operationUnits import * \n",
    "\n",
    "block = \"\"\"\n",
    "  FLASH UID=F1-ECD-AB, NAME=Flash Drum\n",
    "      FEED ABCDE\n",
    "      PRODUCT  V=AB, W=ABCDE-INT\n",
    "      ISO  TEMPERATURE=330, PRESSURE=1500\n",
    "\"\"\"\n",
    "\n",
    "\n",
    "parse_unit_operations2(block)"
   ]
  },
  {
   "cell_type": "code",
   "execution_count": null,
   "metadata": {},
   "outputs": [
    {
     "name": "stdout",
     "output_type": "stream",
     "text": [
      "['cat', 'sat', 'mat', 'rat']\n"
     ]
    }
   ],
   "source": [
    "import re\n",
    "\n",
    "text = \"The cat sat on the mat ratt.\"\n",
    "\n",
    "# Match words ending with \"at\"\n",
    "pattern = r\"\\b\\w+at\"\n",
    "print(re.findall(pattern, text))  # Output: ['cat', 'sat', 'mat', 'rat']\n"
   ]
  },
  {
   "cell_type": "code",
   "execution_count": 30,
   "metadata": {},
   "outputs": [
    {
     "name": "stdout",
     "output_type": "stream",
     "text": [
      "Process\n",
      "1234\n",
      "MyProcess ExtraText\n"
     ]
    }
   ],
   "source": [
    "block = \"Process UID=1234, NAME=MyProcess ExtraText\"\n",
    "\n",
    "unit_pattern = r\"^\\s*(\\w+)\\s+UID=([\\w\\-]+),\\s+NAME=(.+)$\"\n",
    "\n",
    "unit_match = re.search(unit_pattern, block, re.MULTILINE)\n",
    "\n",
    "print(unit_match.group(1).strip())\n",
    "print(unit_match.group(2).strip())\n",
    "print(unit_match.group(3).strip())"
   ]
  },
  {
   "cell_type": "code",
   "execution_count": 32,
   "metadata": {},
   "outputs": [
    {
     "name": "stdout",
     "output_type": "stream",
     "text": [
      "Process\n",
      "1234\n",
      "MyProcess ExtraText\n"
     ]
    }
   ],
   "source": [
    "block = \"Process UID=1234, NAME=MyProcess ExtraText\"\n",
    "\n",
    "unit_pattern = r\"^\\s*(\\w+)\\s+UID=([\\w\\-]+),\\s+NAME=(.+)\"\n",
    "\n",
    "unit_match = re.search(unit_pattern, block)\n",
    "\n",
    "print(unit_match.group(1).strip())\n",
    "print(unit_match.group(2).strip())\n",
    "print(unit_match.group(3).strip())"
   ]
  },
  {
   "cell_type": "code",
   "execution_count": 43,
   "metadata": {},
   "outputs": [
    {
     "name": "stdout",
     "output_type": "stream",
     "text": [
      "<re.Match object; span=(16, 19), match='cat'>\n",
      "None\n"
     ]
    }
   ],
   "source": [
    "import re\n",
    "\n",
    "# Input strings\n",
    "text1 = \"The quick brown cat\"\n",
    "text2 = \"\"\"\n",
    "The quick brown ca\n",
    "t\n",
    "\"\"\"\n",
    "\n",
    "# Pattern with \"$\" (must match \"cat\" at the end of the string)\n",
    "pattern_with_dollar = r\"cat$\"\n",
    "print(re.search(pattern_with_dollar, text1))  # Match\n",
    "print(re.search(pattern_with_dollar, text2))  # No match\n",
    "\n",
    "\n"
   ]
  },
  {
   "cell_type": "code",
   "execution_count": null,
   "metadata": {},
   "outputs": [
    {
     "name": "stdout",
     "output_type": "stream",
     "text": [
      "RAB-1,RC,IC,IAB\n"
     ]
    },
    {
     "data": {
      "text/plain": [
       "{'id': None,\n",
       " 'label': 'M1-R1',\n",
       " 'properties': {'kind': 'MIXER',\n",
       "  'in': ['RAB-1', 'RC', 'IC', 'IAB'],\n",
       "  'out': ['FRT-1'],\n",
       "  'description': 'Mixer before reactor'}}"
      ]
     },
     "execution_count": 16,
     "metadata": {},
     "output_type": "execute_result"
    }
   ],
   "source": [
    "import re\n",
    "\n",
    "text = \"\"\"\n",
    "  MIXER UID=M1-R1, NAME=Mixer before reactor\n",
    "      FEED RAB-1,RC,IC,IAB\n",
    "      PRODUCT  M=FRT-1\n",
    "\"\"\"\n",
    "\n",
    "unit_pattern = r\"^\\s*(\\w+)\\s+UID=([\\w\\-]+),\\s+NAME=(.+)$\"\n",
    "unit_pattern = r\"FLASH UID=([\\w\\-]+), NAME=(.+)\"\n",
    "\n",
    "unit_match = re.search(r\"FLASH UID=([\\w\\-]+), NAME=(.+)\", block)\n",
    "\n",
    "def parse_mixer_block(block):\n",
    "    properties = {\n",
    "        \"kind\": None,\n",
    "        \"in\": [],\n",
    "        \"out\": [],\n",
    "        \"description\": None,\n",
    "    }\n",
    "    node = {\n",
    "        \"id\": None,\n",
    "        \"label\": None,\n",
    "        \"properties\": properties\n",
    "    }\n",
    "\n",
    "    # Regular expressions to extract required components\n",
    "    unit_pattern = r\"^\\s*(\\w+)\\s+UID=([\\w\\-]+),\\s+NAME=(.+)$\"\n",
    "    feed_pattern = r\"\\bFEED\\s+([\\w\\-,]+)\"\n",
    "    product_pattern = r\"\\bPRODUCT\\s+M=([\\w\\-]+)\"\n",
    "\n",
    "    # Match and extract the components\n",
    "    unit_match = re.search(unit_pattern, block, re.MULTILINE)\n",
    "    feed_match = re.search(feed_pattern, block)\n",
    "    product_match = re.search(product_pattern, block)\n",
    "\n",
    "    print(feed_match.group(1))\n",
    "\n",
    "    if not unit_match or not feed_match or not product_match:\n",
    "        raise ValueError(\"Invalid MIXER block format\")\n",
    "\n",
    "    # Extract values\n",
    "    properties[\"kind\"] = unit_match.group(1).strip()\n",
    "    node[\"label\"] = unit_match.group(2).strip()\n",
    "    properties[\"description\"] = unit_match.group(3).strip()\n",
    "    properties[\"in\"] = feed_match.group(1).split(\",\")\n",
    "    properties[\"out\"] = [product_match.group(1).strip()]\n",
    "\n",
    "    return node\n",
    "\n",
    "parse_mixer_block(text)"
   ]
  },
  {
   "cell_type": "code",
   "execution_count": 20,
   "metadata": {},
   "outputs": [
    {
     "name": "stdout",
     "output_type": "stream",
     "text": [
      "IAB-HI|\n",
      "IC-HI|\n"
     ]
    }
   ],
   "source": [
    "text_content = \"\"\"\n",
    "  PROPERTY STREAM=IAB-HI, TEMPERATURE=300, PRESSURE=3445.05, PHASE=M, &\n",
    "         RATE(M)=100, COMPOSITION(M)=1,0.9/2,0.1\n",
    "  PROPERTY STREAM=IC-HI, TEMPERATURE=300, PRESSURE=3445.05, PHASE=M, &\n",
    "         RATE(M)=100, COMPOSITION(M)=3,1\n",
    "\"\"\"\n",
    "\n",
    "pattern = re.compile(\n",
    "    r\"STREAM=(?P<label>[^,]+),\\s*\"\n",
    "    r\"TEMPERATURE=(?P<temperature>[\\d.]+),\\s*\"\n",
    "    r\"PRESSURE=(?P<pressure>[\\d.]+),\\s*\"\n",
    "    r\"PHASE=[^,]+,\\s*&\\s*\"\n",
    "    r\"RATE\\(M\\)=[\\d.]+,\\s*\"\n",
    "    r\"COMPOSITION\\(M\\)=(?P<composition>.+)\"\n",
    ")\n",
    "\n",
    "# pattern.finditer(text_content)\n",
    "\n",
    "for match in pattern.finditer(text_content):\n",
    "    print(match.group(\"label\")+'|')"
   ]
  },
  {
   "cell_type": "code",
   "execution_count": null,
   "metadata": {},
   "outputs": [],
   "source": [
    "import re\n",
    "\n",
    "block = \"\"\"\n",
    "  MIXER UID=M1-R1, NAME=Mixer before reactor\n",
    "      FEED RAB,RC,IC,IAB\n",
    "      PRODUCT  M=FRT\n",
    "\"\"\"\n",
    "feed_pattern3 = r\"\\bFEED\\s+([\\w\\-,]+)\"  # MIXER\n",
    "inlets_match = re.search(feed_pattern3, block)\n",
    "inlets_match"
   ]
  },
  {
   "cell_type": "code",
   "execution_count": null,
   "metadata": {},
   "outputs": [],
   "source": []
  }
 ],
 "metadata": {
  "kernelspec": {
   "display_name": "base",
   "language": "python",
   "name": "python3"
  },
  "language_info": {
   "codemirror_mode": {
    "name": "ipython",
    "version": 3
   },
   "file_extension": ".py",
   "mimetype": "text/x-python",
   "name": "python",
   "nbconvert_exporter": "python",
   "pygments_lexer": "ipython3",
   "version": "3.11.5"
  }
 },
 "nbformat": 4,
 "nbformat_minor": 2
}

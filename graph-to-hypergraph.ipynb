{
 "cells": [
  {
   "cell_type": "code",
   "execution_count": null,
   "metadata": {},
   "outputs": [],
   "source": [
    "# I have nodes,edges of graph\n",
    "nodes = [\n",
    "    {'id': 1, 'label': '(iAB)'},\n",
    "    {'id': 2, 'label': '(dlA/B)'},\n",
    "    {'id': 3, 'label': '(oA)'},\n",
    "    {'id': 4, 'label': '(oB)'},\n",
    "]\n",
    "edges = [\n",
    "    {'from': 1, 'to': 2, 'label': 'AB'},\n",
    "    {'from': 2, 'to': 3, 'label': 'A'},\n",
    "    {'from': 3, 'to': 4, 'label': 'B'},\n",
    "]\n",
    "\n",
    "# I want to convert into nodes,edges of hypergraph\n",
    "nodesH = [\n",
    "    {'id': 1, 'label': 'AB'},\n",
    "    {'id': 2, 'label': 'A'},\n",
    "    {'id': 3, 'label': 'B'},\n",
    "]\n",
    "edgesH = [\n",
    "    {'from': 1, 'to': 2, 'label': '(dlA/B)'},\n",
    "    {'from': 1, 'to': 3, 'label': '(dlA/B)'},\n",
    "]"
   ]
  },
  {
   "cell_type": "code",
   "execution_count": 40,
   "metadata": {},
   "outputs": [
    {
     "data": {
      "text/plain": [
       "([{'id': '1-2', 'label': 'AB', 'level': 0},\n",
       "  {'id': '2-3', 'label': 'A', 'level': 1},\n",
       "  {'id': '2-4', 'label': 'B', 'level': 1}],\n",
       " [{'from': '1-2', 'to': '2-3', 'label': '(dlA/B)'},\n",
       "  {'from': '1-2', 'to': '2-4', 'label': '(dlA/B)'}])"
      ]
     },
     "execution_count": 40,
     "metadata": {},
     "output_type": "execute_result"
    }
   ],
   "source": [
    "nodes = [\n",
    "    {'id': 1, 'level': 0, 'label': '(iAB)'},\n",
    "    {'id': 2, 'level': 1,  'label': '(dlA/B)'},\n",
    "    {'id': 3, 'level': 2,  'label': '(oA)'},\n",
    "    {'id': 4, 'level': 2,  'label': '(oB)'},\n",
    "]\n",
    "edges = [\n",
    "    {'from': 1, 'to': 2, 'label': 'AB'},\n",
    "    {'from': 2, 'to': 3, 'label': 'A'},\n",
    "    {'from': 2, 'to': 4, 'label': 'B'},\n",
    "]\n",
    "\n",
    "def get_node_prop(prop, byVal, byProp='id'):\n",
    "    node = next((node for node in nodes if node[byProp] == byVal), None)\n",
    "    if node:\n",
    "        return node[prop]\n",
    "    return None\n",
    "\n",
    "nodesH = []\n",
    "edgesH = []\n",
    "\n",
    "i = 0\n",
    "for edge in edges:\n",
    "  idH = f\"{edge['from']}-{edge['to']}\"\n",
    "  nodesH.append(\n",
    "    {\n",
    "      'id': idH,\n",
    "      'label': edge['label'],\n",
    "      'level': get_node_prop('level', edge['from'])\n",
    "    }\n",
    "  )\n",
    "\n",
    "  edges_next = [e for e in edges if e['from'] == edge['to']]\n",
    "  for e in edges_next:\n",
    "    idH_next = f\"{e['from']}-{e['to']}\"\n",
    "    edgesH.append(\n",
    "      {\n",
    "        'from': idH,\n",
    "        'to': idH_next,\n",
    "        'label': get_node_prop('label', edge['to']),\n",
    "      }\n",
    "    )\n",
    "\n",
    "# Sort the nodes by the 'level' key\n",
    "nodesH = sorted(nodesH, key=lambda x: x['level'])\n",
    "\n",
    "nodesH, edgesH"
   ]
  },
  {
   "cell_type": "code",
   "execution_count": 2,
   "metadata": {},
   "outputs": [
    {
     "data": {
      "text/plain": [
       "([{'id': 1, 'label': 'AB', 'level': 0},\n",
       "  {'id': 2, 'label': 'A', 'level': 1},\n",
       "  {'id': 3, 'label': 'B', 'level': 1}],\n",
       " [{'from': 1, 'to': 2, 'label': '(dlA/B)'},\n",
       "  {'from': 1, 'to': 3, 'label': '(dlA/B)'}])"
      ]
     },
     "execution_count": 2,
     "metadata": {},
     "output_type": "execute_result"
    }
   ],
   "source": [
    "from graph import *\n",
    "nodes = [\n",
    "    {'id': 1, 'level': 0, 'label': '(iAB)'},\n",
    "    {'id': 2, 'level': 1,  'label': '(dlA/B)'},\n",
    "    {'id': 3, 'level': 2,  'label': '(oA)'},\n",
    "    {'id': 4, 'level': 2,  'label': '(oB)'},\n",
    "]\n",
    "edges = [\n",
    "    {'from': 1, 'to': 2, 'label': 'AB'},\n",
    "    {'from': 2, 'to': 3, 'label': 'A'},\n",
    "    {'from': 2, 'to': 4, 'label': 'B'},\n",
    "]\n",
    "\n",
    "nodes, edges = hypergraph_nodes_edges(nodes, edges)\n",
    "reassign_ids(nodes, edges)"
   ]
  },
  {
   "cell_type": "code",
   "execution_count": null,
   "metadata": {},
   "outputs": [
    {
     "data": {
      "text/plain": [
       "([{'id': 1, 'label': 'AB', 'level': 2},\n",
       "  {'id': 2, 'label': 'A', 'level': 1},\n",
       "  {'id': 3, 'label': 'B', 'level': 0}],\n",
       " [{'from': 1, 'to': 2, 'label': '(dlA/B)'},\n",
       "  {'from': 1, 'to': 3, 'label': '(dlA/B)'}])"
      ]
     },
     "execution_count": 41,
     "metadata": {},
     "output_type": "execute_result"
    }
   ],
   "source": [
    "nodes = [\n",
    "    {'id': '1-2', 'label': 'AB', 'level': 2},\n",
    "    {'id': '2-3', 'label': 'A', 'level': 1},\n",
    "    {'id': '2-4', 'label': 'B', 'level': 0},\n",
    "]\n",
    "edges = [\n",
    "    {'from': '1-2', 'to': '2-3', 'label': '(dlA/B)'},\n",
    "    {'from': '1-2', 'to': '2-4', 'label': '(dlA/B)'}\n",
    "]\n",
    "\n",
    "# Create a mapping with new sequential IDs\n",
    "reassign_ids = {n['id']: i + 1 for i, n in enumerate(nodes)}\n",
    "\n",
    "# Update the 'id' in nodes\n",
    "for n in nodes:\n",
    "    n['id'] = reassign_ids[n['id']]\n",
    "# Update the 'id' in edges\n",
    "for e in edges:\n",
    "    e['from'] = reassign_ids[e['from']]\n",
    "    e['to'] = reassign_ids[e['to']]\n",
    "\n",
    "\n",
    "nodes, edges\n"
   ]
  }
 ],
 "metadata": {
  "kernelspec": {
   "display_name": "base",
   "language": "python",
   "name": "python3"
  },
  "language_info": {
   "codemirror_mode": {
    "name": "ipython",
    "version": 3
   },
   "file_extension": ".py",
   "mimetype": "text/x-python",
   "name": "python",
   "nbconvert_exporter": "python",
   "pygments_lexer": "ipython3",
   "version": "3.11.5"
  }
 },
 "nbformat": 4,
 "nbformat_minor": 2
}
